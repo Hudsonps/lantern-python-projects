{
 "cells": [
  {
   "cell_type": "code",
   "execution_count": 1,
   "metadata": {
    "collapsed": true
   },
   "outputs": [],
   "source": [
    "import numpy as np\n",
    "import matplotlib.pyplot as plt\n",
    "import pandas as pd\n",
    "%matplotlib inline"
   ]
  },
  {
   "cell_type": "code",
   "execution_count": 2,
   "metadata": {
    "collapsed": true
   },
   "outputs": [],
   "source": [
    "from datetime import datetime"
   ]
  },
  {
   "cell_type": "code",
   "execution_count": 3,
   "metadata": {
    "collapsed": true
   },
   "outputs": [],
   "source": [
    "datetime?"
   ]
  },
  {
   "cell_type": "code",
   "execution_count": 4,
   "metadata": {
    "collapsed": true
   },
   "outputs": [],
   "source": [
    "the_date = datetime(2018,1,1)"
   ]
  },
  {
   "cell_type": "code",
   "execution_count": 5,
   "metadata": {},
   "outputs": [
    {
     "data": {
      "text/plain": [
       "datetime.datetime"
      ]
     },
     "execution_count": 5,
     "metadata": {},
     "output_type": "execute_result"
    }
   ],
   "source": [
    "type(the_date)"
   ]
  },
  {
   "cell_type": "code",
   "execution_count": 6,
   "metadata": {},
   "outputs": [
    {
     "data": {
      "text/plain": [
       "0"
      ]
     },
     "execution_count": 6,
     "metadata": {},
     "output_type": "execute_result"
    }
   ],
   "source": [
    "the_date.hour"
   ]
  },
  {
   "cell_type": "code",
   "execution_count": 7,
   "metadata": {},
   "outputs": [
    {
     "data": {
      "text/plain": [
       "datetime.datetime(2018, 4, 17, 17, 51, 41, 352855)"
      ]
     },
     "execution_count": 7,
     "metadata": {},
     "output_type": "execute_result"
    }
   ],
   "source": [
    "datetime.now()"
   ]
  },
  {
   "cell_type": "code",
   "execution_count": 8,
   "metadata": {
    "collapsed": true
   },
   "outputs": [],
   "source": [
    "time_ser = [datetime(2018,1,1), datetime(2018,1,2), datetime(2018,2,1)]"
   ]
  },
  {
   "cell_type": "code",
   "execution_count": 9,
   "metadata": {},
   "outputs": [
    {
     "data": {
      "text/plain": [
       "[datetime.datetime(2018, 1, 1, 0, 0),\n",
       " datetime.datetime(2018, 1, 2, 0, 0),\n",
       " datetime.datetime(2018, 2, 1, 0, 0)]"
      ]
     },
     "execution_count": 9,
     "metadata": {},
     "output_type": "execute_result"
    }
   ],
   "source": [
    "time_ser"
   ]
  },
  {
   "cell_type": "code",
   "execution_count": 10,
   "metadata": {
    "collapsed": true
   },
   "outputs": [],
   "source": [
    "np.random.seed(10)\n",
    "data = np.random.rand(3,3)"
   ]
  },
  {
   "cell_type": "code",
   "execution_count": 11,
   "metadata": {},
   "outputs": [
    {
     "data": {
      "text/plain": [
       "array([[ 0.77132064,  0.02075195,  0.63364823],\n",
       "       [ 0.74880388,  0.49850701,  0.22479665],\n",
       "       [ 0.19806286,  0.76053071,  0.16911084]])"
      ]
     },
     "execution_count": 11,
     "metadata": {},
     "output_type": "execute_result"
    }
   ],
   "source": [
    "data"
   ]
  },
  {
   "cell_type": "code",
   "execution_count": 12,
   "metadata": {
    "collapsed": true
   },
   "outputs": [],
   "source": [
    "cols = ['Col1', 'Col2', 'Col3']"
   ]
  },
  {
   "cell_type": "code",
   "execution_count": 13,
   "metadata": {
    "collapsed": true
   },
   "outputs": [],
   "source": [
    "df = pd.DataFrame(data, index = time_ser, columns=cols)"
   ]
  },
  {
   "cell_type": "code",
   "execution_count": 14,
   "metadata": {},
   "outputs": [
    {
     "data": {
      "text/html": [
       "<div>\n",
       "<style>\n",
       "    .dataframe thead tr:only-child th {\n",
       "        text-align: right;\n",
       "    }\n",
       "\n",
       "    .dataframe thead th {\n",
       "        text-align: left;\n",
       "    }\n",
       "\n",
       "    .dataframe tbody tr th {\n",
       "        vertical-align: top;\n",
       "    }\n",
       "</style>\n",
       "<table border=\"1\" class=\"dataframe\">\n",
       "  <thead>\n",
       "    <tr style=\"text-align: right;\">\n",
       "      <th></th>\n",
       "      <th>Col1</th>\n",
       "      <th>Col2</th>\n",
       "      <th>Col3</th>\n",
       "    </tr>\n",
       "  </thead>\n",
       "  <tbody>\n",
       "    <tr>\n",
       "      <th>2018-01-01</th>\n",
       "      <td>0.771321</td>\n",
       "      <td>0.020752</td>\n",
       "      <td>0.633648</td>\n",
       "    </tr>\n",
       "    <tr>\n",
       "      <th>2018-01-02</th>\n",
       "      <td>0.748804</td>\n",
       "      <td>0.498507</td>\n",
       "      <td>0.224797</td>\n",
       "    </tr>\n",
       "    <tr>\n",
       "      <th>2018-02-01</th>\n",
       "      <td>0.198063</td>\n",
       "      <td>0.760531</td>\n",
       "      <td>0.169111</td>\n",
       "    </tr>\n",
       "  </tbody>\n",
       "</table>\n",
       "</div>"
      ],
      "text/plain": [
       "                Col1      Col2      Col3\n",
       "2018-01-01  0.771321  0.020752  0.633648\n",
       "2018-01-02  0.748804  0.498507  0.224797\n",
       "2018-02-01  0.198063  0.760531  0.169111"
      ]
     },
     "execution_count": 14,
     "metadata": {},
     "output_type": "execute_result"
    }
   ],
   "source": [
    "df"
   ]
  },
  {
   "cell_type": "code",
   "execution_count": 15,
   "metadata": {},
   "outputs": [
    {
     "data": {
      "text/html": [
       "<div>\n",
       "<style>\n",
       "    .dataframe thead tr:only-child th {\n",
       "        text-align: right;\n",
       "    }\n",
       "\n",
       "    .dataframe thead th {\n",
       "        text-align: left;\n",
       "    }\n",
       "\n",
       "    .dataframe tbody tr th {\n",
       "        vertical-align: top;\n",
       "    }\n",
       "</style>\n",
       "<table border=\"1\" class=\"dataframe\">\n",
       "  <thead>\n",
       "    <tr style=\"text-align: right;\">\n",
       "      <th></th>\n",
       "      <th>Col1</th>\n",
       "      <th>Col2</th>\n",
       "      <th>Col3</th>\n",
       "    </tr>\n",
       "  </thead>\n",
       "  <tbody>\n",
       "    <tr>\n",
       "      <th>2018-01-01</th>\n",
       "      <td>0.771321</td>\n",
       "      <td>0.020752</td>\n",
       "      <td>0.633648</td>\n",
       "    </tr>\n",
       "    <tr>\n",
       "      <th>2018-01-02</th>\n",
       "      <td>0.748804</td>\n",
       "      <td>0.498507</td>\n",
       "      <td>0.224797</td>\n",
       "    </tr>\n",
       "    <tr>\n",
       "      <th>2018-02-01</th>\n",
       "      <td>0.198063</td>\n",
       "      <td>0.760531</td>\n",
       "      <td>0.169111</td>\n",
       "    </tr>\n",
       "  </tbody>\n",
       "</table>\n",
       "</div>"
      ],
      "text/plain": [
       "                Col1      Col2      Col3\n",
       "2018-01-01  0.771321  0.020752  0.633648\n",
       "2018-01-02  0.748804  0.498507  0.224797\n",
       "2018-02-01  0.198063  0.760531  0.169111"
      ]
     },
     "execution_count": 15,
     "metadata": {},
     "output_type": "execute_result"
    }
   ],
   "source": [
    "df"
   ]
  },
  {
   "cell_type": "code",
   "execution_count": 16,
   "metadata": {},
   "outputs": [
    {
     "data": {
      "text/plain": [
       "DatetimeIndex(['2018-01-01', '2018-01-02', '2018-02-01'], dtype='datetime64[ns]', freq=None)"
      ]
     },
     "execution_count": 16,
     "metadata": {},
     "output_type": "execute_result"
    }
   ],
   "source": [
    "df.index"
   ]
  },
  {
   "cell_type": "code",
   "execution_count": null,
   "metadata": {
    "collapsed": true
   },
   "outputs": [],
   "source": []
  },
  {
   "cell_type": "code",
   "execution_count": 17,
   "metadata": {
    "collapsed": true
   },
   "outputs": [],
   "source": [
    "df = pd.read_csv(\"stock_1.csv\", index_col='Date', parse_dates=True)"
   ]
  },
  {
   "cell_type": "code",
   "execution_count": 18,
   "metadata": {},
   "outputs": [
    {
     "data": {
      "text/plain": [
       "Timestamp('2016-12-30 00:00:00')"
      ]
     },
     "execution_count": 18,
     "metadata": {},
     "output_type": "execute_result"
    }
   ],
   "source": [
    "df.index.max()"
   ]
  },
  {
   "cell_type": "code",
   "execution_count": 19,
   "metadata": {},
   "outputs": [
    {
     "data": {
      "text/plain": [
       "<matplotlib.axes._subplots.AxesSubplot at 0x10bf465f8>"
      ]
     },
     "execution_count": 19,
     "metadata": {},
     "output_type": "execute_result"
    },
    {
     "data": {
      "image/png": "[encoded data removed]",
      "text/plain": [
       "<matplotlib.figure.Figure at 0x10bf5b780>"
      ]
     },
     "metadata": {},
     "output_type": "display_data"
    }
   ],
   "source": [
    "df.Close.plot()"
   ]
  },
  {
   "cell_type": "code",
   "execution_count": 20,
   "metadata": {},
   "outputs": [
    {
     "data": {
      "text/html": [
       "<div>\n",
       "<style>\n",
       "    .dataframe thead tr:only-child th {\n",
       "        text-align: right;\n",
       "    }\n",
       "\n",
       "    .dataframe thead th {\n",
       "        text-align: left;\n",
       "    }\n",
       "\n",
       "    .dataframe tbody tr th {\n",
       "        vertical-align: top;\n",
       "    }\n",
       "</style>\n",
       "<table border=\"1\" class=\"dataframe\">\n",
       "  <thead>\n",
       "    <tr style=\"text-align: right;\">\n",
       "      <th></th>\n",
       "      <th>Open</th>\n",
       "      <th>High</th>\n",
       "      <th>Low</th>\n",
       "      <th>Close</th>\n",
       "      <th>Volume</th>\n",
       "      <th>Adj Close</th>\n",
       "    </tr>\n",
       "    <tr>\n",
       "      <th>Date</th>\n",
       "      <th></th>\n",
       "      <th></th>\n",
       "      <th></th>\n",
       "      <th></th>\n",
       "      <th></th>\n",
       "      <th></th>\n",
       "    </tr>\n",
       "  </thead>\n",
       "  <tbody>\n",
       "    <tr>\n",
       "      <th>2012-01-03</th>\n",
       "      <td>NaN</td>\n",
       "      <td>NaN</td>\n",
       "      <td>NaN</td>\n",
       "      <td>NaN</td>\n",
       "      <td>NaN</td>\n",
       "      <td>NaN</td>\n",
       "    </tr>\n",
       "    <tr>\n",
       "      <th>2012-01-04</th>\n",
       "      <td>NaN</td>\n",
       "      <td>NaN</td>\n",
       "      <td>NaN</td>\n",
       "      <td>NaN</td>\n",
       "      <td>NaN</td>\n",
       "      <td>NaN</td>\n",
       "    </tr>\n",
       "    <tr>\n",
       "      <th>2012-01-05</th>\n",
       "      <td>NaN</td>\n",
       "      <td>NaN</td>\n",
       "      <td>NaN</td>\n",
       "      <td>NaN</td>\n",
       "      <td>NaN</td>\n",
       "      <td>NaN</td>\n",
       "    </tr>\n",
       "    <tr>\n",
       "      <th>2012-01-06</th>\n",
       "      <td>NaN</td>\n",
       "      <td>NaN</td>\n",
       "      <td>NaN</td>\n",
       "      <td>NaN</td>\n",
       "      <td>NaN</td>\n",
       "      <td>NaN</td>\n",
       "    </tr>\n",
       "    <tr>\n",
       "      <th>2012-01-09</th>\n",
       "      <td>NaN</td>\n",
       "      <td>NaN</td>\n",
       "      <td>NaN</td>\n",
       "      <td>NaN</td>\n",
       "      <td>NaN</td>\n",
       "      <td>NaN</td>\n",
       "    </tr>\n",
       "    <tr>\n",
       "      <th>2012-01-10</th>\n",
       "      <td>NaN</td>\n",
       "      <td>NaN</td>\n",
       "      <td>NaN</td>\n",
       "      <td>NaN</td>\n",
       "      <td>NaN</td>\n",
       "      <td>NaN</td>\n",
       "    </tr>\n",
       "    <tr>\n",
       "      <th>2012-01-11</th>\n",
       "      <td>59.495714</td>\n",
       "      <td>59.895714</td>\n",
       "      <td>59.074285</td>\n",
       "      <td>59.440000</td>\n",
       "      <td>9.007414e+06</td>\n",
       "      <td>51.842984</td>\n",
       "    </tr>\n",
       "    <tr>\n",
       "      <th>2012-01-12</th>\n",
       "      <td>59.469999</td>\n",
       "      <td>59.744285</td>\n",
       "      <td>59.007143</td>\n",
       "      <td>59.321429</td>\n",
       "      <td>8.231357e+06</td>\n",
       "      <td>51.739567</td>\n",
       "    </tr>\n",
       "    <tr>\n",
       "      <th>2012-01-13</th>\n",
       "      <td>59.322857</td>\n",
       "      <td>59.638571</td>\n",
       "      <td>58.941428</td>\n",
       "      <td>59.297143</td>\n",
       "      <td>7.965071e+06</td>\n",
       "      <td>51.718386</td>\n",
       "    </tr>\n",
       "    <tr>\n",
       "      <th>2012-01-17</th>\n",
       "      <td>59.397143</td>\n",
       "      <td>59.708571</td>\n",
       "      <td>59.105714</td>\n",
       "      <td>59.358572</td>\n",
       "      <td>7.355329e+06</td>\n",
       "      <td>51.771963</td>\n",
       "    </tr>\n",
       "  </tbody>\n",
       "</table>\n",
       "</div>"
      ],
      "text/plain": [
       "                 Open       High        Low      Close        Volume  \\\n",
       "Date                                                                   \n",
       "2012-01-03        NaN        NaN        NaN        NaN           NaN   \n",
       "2012-01-04        NaN        NaN        NaN        NaN           NaN   \n",
       "2012-01-05        NaN        NaN        NaN        NaN           NaN   \n",
       "2012-01-06        NaN        NaN        NaN        NaN           NaN   \n",
       "2012-01-09        NaN        NaN        NaN        NaN           NaN   \n",
       "2012-01-10        NaN        NaN        NaN        NaN           NaN   \n",
       "2012-01-11  59.495714  59.895714  59.074285  59.440000  9.007414e+06   \n",
       "2012-01-12  59.469999  59.744285  59.007143  59.321429  8.231357e+06   \n",
       "2012-01-13  59.322857  59.638571  58.941428  59.297143  7.965071e+06   \n",
       "2012-01-17  59.397143  59.708571  59.105714  59.358572  7.355329e+06   \n",
       "\n",
       "            Adj Close  \n",
       "Date                   \n",
       "2012-01-03        NaN  \n",
       "2012-01-04        NaN  \n",
       "2012-01-05        NaN  \n",
       "2012-01-06        NaN  \n",
       "2012-01-09        NaN  \n",
       "2012-01-10        NaN  \n",
       "2012-01-11  51.842984  \n",
       "2012-01-12  51.739567  \n",
       "2012-01-13  51.718386  \n",
       "2012-01-17  51.771963  "
      ]
     },
     "execution_count": 20,
     "metadata": {},
     "output_type": "execute_result"
    }
   ],
   "source": [
    "df.rolling(7).mean().head(10)"
   ]
  },
  {
   "cell_type": "code",
   "execution_count": 21,
   "metadata": {},
   "outputs": [
    {
     "data": {
      "text/plain": [
       "<matplotlib.axes._subplots.AxesSubplot at 0x1067b2e80>"
      ]
     },
     "execution_count": 21,
     "metadata": {},
     "output_type": "execute_result"
    },
    {
     "data": {
      "image/png": "[encoded data removed]",
      "text/plain": [
       "<matplotlib.figure.Figure at 0x1067b26a0>"
      ]
     },
     "metadata": {},
     "output_type": "display_data"
    }
   ],
   "source": [
    "df.Close.plot(figsize=(10,8))\n",
    "df.rolling(20).mean().Close.shift(-10).plot()"
   ]
  },
  {
   "cell_type": "code",
   "execution_count": 22,
   "metadata": {
    "collapsed": true
   },
   "outputs": [],
   "source": [
    "#moving average is shifted. We need to bring it back to its place\n"
   ]
  },
  {
   "cell_type": "code",
   "execution_count": 23,
   "metadata": {
    "collapsed": true
   },
   "outputs": [],
   "source": [
    "df.tshift?"
   ]
  },
  {
   "cell_type": "code",
   "execution_count": 24,
   "metadata": {},
   "outputs": [
    {
     "data": {
      "text/plain": [
       "Date\n",
       "2012-12-31    AxesSubplot(0.125,0.2;0.775x0.68)\n",
       "2013-12-31    AxesSubplot(0.125,0.2;0.775x0.68)\n",
       "2014-12-31    AxesSubplot(0.125,0.2;0.775x0.68)\n",
       "2015-12-31    AxesSubplot(0.125,0.2;0.775x0.68)\n",
       "2016-12-31    AxesSubplot(0.125,0.2;0.775x0.68)\n",
       "Freq: A-DEC, Name: Close, dtype: object"
      ]
     },
     "execution_count": 24,
     "metadata": {},
     "output_type": "execute_result"
    },
    {
     "data": {
      "image/png": "[encoded data removed]",
      "text/plain": [
       "<matplotlib.figure.Figure at 0x105c0a390>"
      ]
     },
     "metadata": {},
     "output_type": "display_data"
    }
   ],
   "source": [
    "df.resample(rule='A').Close.plot()"
   ]
  },
  {
   "cell_type": "code",
   "execution_count": 25,
   "metadata": {},
   "outputs": [
    {
     "data": {
      "text/plain": [
       "<matplotlib.axes._subplots.AxesSubplot at 0x10c05c0b8>"
      ]
     },
     "execution_count": 25,
     "metadata": {},
     "output_type": "execute_result"
    },
    {
     "data": {
      "image/png": "[encoded data removed]",
      "text/plain": [
       "<matplotlib.figure.Figure at 0x10c063cf8>"
      ]
     },
     "metadata": {},
     "output_type": "display_data"
    }
   ],
   "source": [
    "df.resample(rule='A').mean().Close.plot(kind='bar')"
   ]
  },
  {
   "cell_type": "code",
   "execution_count": 26,
   "metadata": {
    "collapsed": true
   },
   "outputs": [],
   "source": [
    "import pandas_datareader.data as DRdata"
   ]
  },
  {
   "cell_type": "code",
   "execution_count": 27,
   "metadata": {
    "collapsed": true
   },
   "outputs": [],
   "source": [
    "#Apple = DRdata.DataReader('AAPL', 'yahoo', '2015-01-01', '2016-01-01')"
   ]
  },
  {
   "cell_type": "code",
   "execution_count": 28,
   "metadata": {
    "collapsed": true
   },
   "outputs": [],
   "source": [
    "import quandl"
   ]
  },
  {
   "cell_type": "code",
   "execution_count": 29,
   "metadata": {
    "collapsed": true
   },
   "outputs": [],
   "source": [
    "mydata = quandl.get(\"FRED/GDP\")    #federal reserve data for the GDP"
   ]
  },
  {
   "cell_type": "code",
   "execution_count": 30,
   "metadata": {
    "collapsed": true
   },
   "outputs": [],
   "source": [
    "mydata = quandl"
   ]
  },
  {
   "cell_type": "code",
   "execution_count": 31,
   "metadata": {
    "collapsed": true
   },
   "outputs": [],
   "source": [
    "start = pd.to_datetime('2012-01-01')"
   ]
  },
  {
   "cell_type": "code",
   "execution_count": 32,
   "metadata": {},
   "outputs": [
    {
     "data": {
      "text/plain": [
       "Timestamp('2012-01-01 00:00:00')"
      ]
     },
     "execution_count": 32,
     "metadata": {},
     "output_type": "execute_result"
    }
   ],
   "source": [
    "start"
   ]
  },
  {
   "cell_type": "code",
   "execution_count": 33,
   "metadata": {
    "collapsed": true
   },
   "outputs": [],
   "source": [
    "end = pd.to_datetime('2017-01-01')"
   ]
  },
  {
   "cell_type": "code",
   "execution_count": 34,
   "metadata": {
    "collapsed": true
   },
   "outputs": [],
   "source": [
    "stock1 = pd.read_csv('stock1.csv', index_col = 'Date', parse_dates=True)\n",
    "stock2 = pd.read_csv('stock2.csv', index_col = 'Date', parse_dates=True)\n",
    "stock3 = pd.read_csv('stock3.csv', index_col = 'Date', parse_dates=True)\n",
    "stock4 = pd.read_csv('stock4.csv', index_col = 'Date', parse_dates=True)"
   ]
  },
  {
   "cell_type": "code",
   "execution_count": 35,
   "metadata": {},
   "outputs": [
    {
     "data": {
      "text/html": [
       "<div>\n",
       "<style>\n",
       "    .dataframe thead tr:only-child th {\n",
       "        text-align: right;\n",
       "    }\n",
       "\n",
       "    .dataframe thead th {\n",
       "        text-align: left;\n",
       "    }\n",
       "\n",
       "    .dataframe tbody tr th {\n",
       "        vertical-align: top;\n",
       "    }\n",
       "</style>\n",
       "<table border=\"1\" class=\"dataframe\">\n",
       "  <thead>\n",
       "    <tr style=\"text-align: right;\">\n",
       "      <th></th>\n",
       "      <th>Adj. Close</th>\n",
       "    </tr>\n",
       "    <tr>\n",
       "      <th>Date</th>\n",
       "      <th></th>\n",
       "    </tr>\n",
       "  </thead>\n",
       "  <tbody>\n",
       "    <tr>\n",
       "      <th>2012-01-03</th>\n",
       "      <td>53.063218</td>\n",
       "    </tr>\n",
       "    <tr>\n",
       "      <th>2012-01-04</th>\n",
       "      <td>53.348386</td>\n",
       "    </tr>\n",
       "    <tr>\n",
       "      <th>2012-01-05</th>\n",
       "      <td>53.940658</td>\n",
       "    </tr>\n",
       "    <tr>\n",
       "      <th>2012-01-06</th>\n",
       "      <td>54.504543</td>\n",
       "    </tr>\n",
       "    <tr>\n",
       "      <th>2012-01-09</th>\n",
       "      <td>54.418089</td>\n",
       "    </tr>\n",
       "  </tbody>\n",
       "</table>\n",
       "</div>"
      ],
      "text/plain": [
       "            Adj. Close\n",
       "Date                  \n",
       "2012-01-03   53.063218\n",
       "2012-01-04   53.348386\n",
       "2012-01-05   53.940658\n",
       "2012-01-06   54.504543\n",
       "2012-01-09   54.418089"
      ]
     },
     "execution_count": 35,
     "metadata": {},
     "output_type": "execute_result"
    }
   ],
   "source": [
    "stock1.head()"
   ]
  },
  {
   "cell_type": "code",
   "execution_count": 36,
   "metadata": {
    "collapsed": true
   },
   "outputs": [],
   "source": [
    "stock_list = [stock1, stock2, stock3, stock4]"
   ]
  },
  {
   "cell_type": "code",
   "execution_count": 37,
   "metadata": {
    "collapsed": true
   },
   "outputs": [],
   "source": [
    "for stock in stock_list:\n",
    "    stock['NormReturn'] = stock['Adj. Close']/stock['Adj. Close'][0]\n",
    "    #normalizing the stock price, so that the first day corresponds to 1"
   ]
  },
  {
   "cell_type": "code",
   "execution_count": 38,
   "metadata": {},
   "outputs": [
    {
     "data": {
      "text/plain": [
       "<matplotlib.axes._subplots.AxesSubplot at 0x115344c50>"
      ]
     },
     "execution_count": 38,
     "metadata": {},
     "output_type": "execute_result"
    },
    {
     "data": {
      "image/png": "[encoded data removed]",
      "text/plain": [
       "<matplotlib.figure.Figure at 0x115358b38>"
      ]
     },
     "metadata": {},
     "output_type": "display_data"
    }
   ],
   "source": [
    "stock1.NormReturn.plot()"
   ]
  },
  {
   "cell_type": "code",
   "execution_count": 39,
   "metadata": {
    "collapsed": true
   },
   "outputs": [],
   "source": [
    "alloc_list = [0.3, 0.2, 0.4, 0.1]"
   ]
  },
  {
   "cell_type": "code",
   "execution_count": 40,
   "metadata": {
    "collapsed": true
   },
   "outputs": [],
   "source": [
    "for stock, alloc in zip(stock_list, alloc_list):\n",
    "    stock['Alloced'] = stock.NormReturn * alloc"
   ]
  },
  {
   "cell_type": "code",
   "execution_count": 41,
   "metadata": {},
   "outputs": [
    {
     "data": {
      "text/html": [
       "<div>\n",
       "<style>\n",
       "    .dataframe thead tr:only-child th {\n",
       "        text-align: right;\n",
       "    }\n",
       "\n",
       "    .dataframe thead th {\n",
       "        text-align: left;\n",
       "    }\n",
       "\n",
       "    .dataframe tbody tr th {\n",
       "        vertical-align: top;\n",
       "    }\n",
       "</style>\n",
       "<table border=\"1\" class=\"dataframe\">\n",
       "  <thead>\n",
       "    <tr style=\"text-align: right;\">\n",
       "      <th></th>\n",
       "      <th>Adj. Close</th>\n",
       "      <th>NormReturn</th>\n",
       "      <th>Alloced</th>\n",
       "    </tr>\n",
       "    <tr>\n",
       "      <th>Date</th>\n",
       "      <th></th>\n",
       "      <th></th>\n",
       "      <th></th>\n",
       "    </tr>\n",
       "  </thead>\n",
       "  <tbody>\n",
       "    <tr>\n",
       "      <th>2012-01-03</th>\n",
       "      <td>53.063218</td>\n",
       "      <td>1.000000</td>\n",
       "      <td>0.300000</td>\n",
       "    </tr>\n",
       "    <tr>\n",
       "      <th>2012-01-04</th>\n",
       "      <td>53.348386</td>\n",
       "      <td>1.005374</td>\n",
       "      <td>0.301612</td>\n",
       "    </tr>\n",
       "    <tr>\n",
       "      <th>2012-01-05</th>\n",
       "      <td>53.940658</td>\n",
       "      <td>1.016536</td>\n",
       "      <td>0.304961</td>\n",
       "    </tr>\n",
       "    <tr>\n",
       "      <th>2012-01-06</th>\n",
       "      <td>54.504543</td>\n",
       "      <td>1.027162</td>\n",
       "      <td>0.308149</td>\n",
       "    </tr>\n",
       "    <tr>\n",
       "      <th>2012-01-09</th>\n",
       "      <td>54.418089</td>\n",
       "      <td>1.025533</td>\n",
       "      <td>0.307660</td>\n",
       "    </tr>\n",
       "  </tbody>\n",
       "</table>\n",
       "</div>"
      ],
      "text/plain": [
       "            Adj. Close  NormReturn   Alloced\n",
       "Date                                        \n",
       "2012-01-03   53.063218    1.000000  0.300000\n",
       "2012-01-04   53.348386    1.005374  0.301612\n",
       "2012-01-05   53.940658    1.016536  0.304961\n",
       "2012-01-06   54.504543    1.027162  0.308149\n",
       "2012-01-09   54.418089    1.025533  0.307660"
      ]
     },
     "execution_count": 41,
     "metadata": {},
     "output_type": "execute_result"
    }
   ],
   "source": [
    "stock1.head()"
   ]
  },
  {
   "cell_type": "code",
   "execution_count": 42,
   "metadata": {
    "collapsed": true
   },
   "outputs": [],
   "source": [
    "init_investment = 1000"
   ]
  },
  {
   "cell_type": "code",
   "execution_count": 43,
   "metadata": {
    "collapsed": true
   },
   "outputs": [],
   "source": [
    "for stock in  stock_list:\n",
    "    stock['value'] = stock['Alloced']*init_investment"
   ]
  },
  {
   "cell_type": "code",
   "execution_count": 44,
   "metadata": {},
   "outputs": [
    {
     "data": {
      "text/html": [
       "<div>\n",
       "<style>\n",
       "    .dataframe thead tr:only-child th {\n",
       "        text-align: right;\n",
       "    }\n",
       "\n",
       "    .dataframe thead th {\n",
       "        text-align: left;\n",
       "    }\n",
       "\n",
       "    .dataframe tbody tr th {\n",
       "        vertical-align: top;\n",
       "    }\n",
       "</style>\n",
       "<table border=\"1\" class=\"dataframe\">\n",
       "  <thead>\n",
       "    <tr style=\"text-align: right;\">\n",
       "      <th></th>\n",
       "      <th>Adj. Close</th>\n",
       "      <th>NormReturn</th>\n",
       "      <th>Alloced</th>\n",
       "      <th>value</th>\n",
       "    </tr>\n",
       "    <tr>\n",
       "      <th>Date</th>\n",
       "      <th></th>\n",
       "      <th></th>\n",
       "      <th></th>\n",
       "      <th></th>\n",
       "    </tr>\n",
       "  </thead>\n",
       "  <tbody>\n",
       "    <tr>\n",
       "      <th>2012-01-03</th>\n",
       "      <td>53.063218</td>\n",
       "      <td>1.000000</td>\n",
       "      <td>0.300000</td>\n",
       "      <td>300.000000</td>\n",
       "    </tr>\n",
       "    <tr>\n",
       "      <th>2012-01-04</th>\n",
       "      <td>53.348386</td>\n",
       "      <td>1.005374</td>\n",
       "      <td>0.301612</td>\n",
       "      <td>301.612236</td>\n",
       "    </tr>\n",
       "    <tr>\n",
       "      <th>2012-01-05</th>\n",
       "      <td>53.940658</td>\n",
       "      <td>1.016536</td>\n",
       "      <td>0.304961</td>\n",
       "      <td>304.960728</td>\n",
       "    </tr>\n",
       "    <tr>\n",
       "      <th>2012-01-06</th>\n",
       "      <td>54.504543</td>\n",
       "      <td>1.027162</td>\n",
       "      <td>0.308149</td>\n",
       "      <td>308.148725</td>\n",
       "    </tr>\n",
       "    <tr>\n",
       "      <th>2012-01-09</th>\n",
       "      <td>54.418089</td>\n",
       "      <td>1.025533</td>\n",
       "      <td>0.307660</td>\n",
       "      <td>307.659947</td>\n",
       "    </tr>\n",
       "  </tbody>\n",
       "</table>\n",
       "</div>"
      ],
      "text/plain": [
       "            Adj. Close  NormReturn   Alloced       value\n",
       "Date                                                    \n",
       "2012-01-03   53.063218    1.000000  0.300000  300.000000\n",
       "2012-01-04   53.348386    1.005374  0.301612  301.612236\n",
       "2012-01-05   53.940658    1.016536  0.304961  304.960728\n",
       "2012-01-06   54.504543    1.027162  0.308149  308.148725\n",
       "2012-01-09   54.418089    1.025533  0.307660  307.659947"
      ]
     },
     "execution_count": 44,
     "metadata": {},
     "output_type": "execute_result"
    }
   ],
   "source": [
    "stock1.head()"
   ]
  },
  {
   "cell_type": "code",
   "execution_count": 45,
   "metadata": {
    "collapsed": true
   },
   "outputs": [],
   "source": [
    "portfolio = pd.concat([stock1.value, stock2.value, stock3.value, stock4.value], axis=1)"
   ]
  },
  {
   "cell_type": "code",
   "execution_count": 46,
   "metadata": {},
   "outputs": [
    {
     "data": {
      "text/html": [
       "<div>\n",
       "<style>\n",
       "    .dataframe thead tr:only-child th {\n",
       "        text-align: right;\n",
       "    }\n",
       "\n",
       "    .dataframe thead th {\n",
       "        text-align: left;\n",
       "    }\n",
       "\n",
       "    .dataframe tbody tr th {\n",
       "        vertical-align: top;\n",
       "    }\n",
       "</style>\n",
       "<table border=\"1\" class=\"dataframe\">\n",
       "  <thead>\n",
       "    <tr style=\"text-align: right;\">\n",
       "      <th></th>\n",
       "      <th>value</th>\n",
       "      <th>value</th>\n",
       "      <th>value</th>\n",
       "      <th>value</th>\n",
       "    </tr>\n",
       "    <tr>\n",
       "      <th>Date</th>\n",
       "      <th></th>\n",
       "      <th></th>\n",
       "      <th></th>\n",
       "      <th></th>\n",
       "    </tr>\n",
       "  </thead>\n",
       "  <tbody>\n",
       "    <tr>\n",
       "      <th>2012-01-03</th>\n",
       "      <td>300.000000</td>\n",
       "      <td>200.000000</td>\n",
       "      <td>400.000000</td>\n",
       "      <td>100.000000</td>\n",
       "    </tr>\n",
       "    <tr>\n",
       "      <th>2012-01-04</th>\n",
       "      <td>301.612236</td>\n",
       "      <td>203.864734</td>\n",
       "      <td>398.368223</td>\n",
       "      <td>99.150980</td>\n",
       "    </tr>\n",
       "    <tr>\n",
       "      <th>2012-01-05</th>\n",
       "      <td>304.960728</td>\n",
       "      <td>203.113258</td>\n",
       "      <td>396.478798</td>\n",
       "      <td>99.206837</td>\n",
       "    </tr>\n",
       "    <tr>\n",
       "      <th>2012-01-06</th>\n",
       "      <td>308.148725</td>\n",
       "      <td>202.361782</td>\n",
       "      <td>391.926999</td>\n",
       "      <td>101.999665</td>\n",
       "    </tr>\n",
       "    <tr>\n",
       "      <th>2012-01-09</th>\n",
       "      <td>307.659947</td>\n",
       "      <td>203.650027</td>\n",
       "      <td>389.887279</td>\n",
       "      <td>99.737474</td>\n",
       "    </tr>\n",
       "  </tbody>\n",
       "</table>\n",
       "</div>"
      ],
      "text/plain": [
       "                 value       value       value       value\n",
       "Date                                                      \n",
       "2012-01-03  300.000000  200.000000  400.000000  100.000000\n",
       "2012-01-04  301.612236  203.864734  398.368223   99.150980\n",
       "2012-01-05  304.960728  203.113258  396.478798   99.206837\n",
       "2012-01-06  308.148725  202.361782  391.926999  101.999665\n",
       "2012-01-09  307.659947  203.650027  389.887279   99.737474"
      ]
     },
     "execution_count": 46,
     "metadata": {},
     "output_type": "execute_result"
    }
   ],
   "source": [
    "portfolio.head()"
   ]
  },
  {
   "cell_type": "code",
   "execution_count": 47,
   "metadata": {
    "collapsed": true
   },
   "outputs": [],
   "source": [
    "portfolio.columns = ['Stock1', 'Stock2', 'Stock3', 'Stock4']"
   ]
  },
  {
   "cell_type": "code",
   "execution_count": 48,
   "metadata": {},
   "outputs": [
    {
     "data": {
      "text/html": [
       "<div>\n",
       "<style>\n",
       "    .dataframe thead tr:only-child th {\n",
       "        text-align: right;\n",
       "    }\n",
       "\n",
       "    .dataframe thead th {\n",
       "        text-align: left;\n",
       "    }\n",
       "\n",
       "    .dataframe tbody tr th {\n",
       "        vertical-align: top;\n",
       "    }\n",
       "</style>\n",
       "<table border=\"1\" class=\"dataframe\">\n",
       "  <thead>\n",
       "    <tr style=\"text-align: right;\">\n",
       "      <th></th>\n",
       "      <th>Stock1</th>\n",
       "      <th>Stock2</th>\n",
       "      <th>Stock3</th>\n",
       "      <th>Stock4</th>\n",
       "    </tr>\n",
       "    <tr>\n",
       "      <th>Date</th>\n",
       "      <th></th>\n",
       "      <th></th>\n",
       "      <th></th>\n",
       "      <th></th>\n",
       "    </tr>\n",
       "  </thead>\n",
       "  <tbody>\n",
       "    <tr>\n",
       "      <th>2012-01-03</th>\n",
       "      <td>300.000000</td>\n",
       "      <td>200.000000</td>\n",
       "      <td>400.000000</td>\n",
       "      <td>100.000000</td>\n",
       "    </tr>\n",
       "    <tr>\n",
       "      <th>2012-01-04</th>\n",
       "      <td>301.612236</td>\n",
       "      <td>203.864734</td>\n",
       "      <td>398.368223</td>\n",
       "      <td>99.150980</td>\n",
       "    </tr>\n",
       "    <tr>\n",
       "      <th>2012-01-05</th>\n",
       "      <td>304.960728</td>\n",
       "      <td>203.113258</td>\n",
       "      <td>396.478798</td>\n",
       "      <td>99.206837</td>\n",
       "    </tr>\n",
       "    <tr>\n",
       "      <th>2012-01-06</th>\n",
       "      <td>308.148725</td>\n",
       "      <td>202.361782</td>\n",
       "      <td>391.926999</td>\n",
       "      <td>101.999665</td>\n",
       "    </tr>\n",
       "    <tr>\n",
       "      <th>2012-01-09</th>\n",
       "      <td>307.659947</td>\n",
       "      <td>203.650027</td>\n",
       "      <td>389.887279</td>\n",
       "      <td>99.737474</td>\n",
       "    </tr>\n",
       "  </tbody>\n",
       "</table>\n",
       "</div>"
      ],
      "text/plain": [
       "                Stock1      Stock2      Stock3      Stock4\n",
       "Date                                                      \n",
       "2012-01-03  300.000000  200.000000  400.000000  100.000000\n",
       "2012-01-04  301.612236  203.864734  398.368223   99.150980\n",
       "2012-01-05  304.960728  203.113258  396.478798   99.206837\n",
       "2012-01-06  308.148725  202.361782  391.926999  101.999665\n",
       "2012-01-09  307.659947  203.650027  389.887279   99.737474"
      ]
     },
     "execution_count": 48,
     "metadata": {},
     "output_type": "execute_result"
    }
   ],
   "source": [
    "portfolio.head()"
   ]
  },
  {
   "cell_type": "code",
   "execution_count": 49,
   "metadata": {},
   "outputs": [
    {
     "data": {
      "text/html": [
       "<div>\n",
       "<style>\n",
       "    .dataframe thead tr:only-child th {\n",
       "        text-align: right;\n",
       "    }\n",
       "\n",
       "    .dataframe thead th {\n",
       "        text-align: left;\n",
       "    }\n",
       "\n",
       "    .dataframe tbody tr th {\n",
       "        vertical-align: top;\n",
       "    }\n",
       "</style>\n",
       "<table border=\"1\" class=\"dataframe\">\n",
       "  <thead>\n",
       "    <tr style=\"text-align: right;\">\n",
       "      <th></th>\n",
       "      <th>Stock1</th>\n",
       "      <th>Stock2</th>\n",
       "      <th>Stock3</th>\n",
       "      <th>Stock4</th>\n",
       "      <th>value</th>\n",
       "    </tr>\n",
       "    <tr>\n",
       "      <th>Date</th>\n",
       "      <th></th>\n",
       "      <th></th>\n",
       "      <th></th>\n",
       "      <th></th>\n",
       "      <th></th>\n",
       "    </tr>\n",
       "  </thead>\n",
       "  <tbody>\n",
       "    <tr>\n",
       "      <th>2012-01-03</th>\n",
       "      <td>300.000000</td>\n",
       "      <td>200.000000</td>\n",
       "      <td>400.000000</td>\n",
       "      <td>100.000000</td>\n",
       "      <td>1000.000000</td>\n",
       "    </tr>\n",
       "    <tr>\n",
       "      <th>2012-01-04</th>\n",
       "      <td>301.612236</td>\n",
       "      <td>203.864734</td>\n",
       "      <td>398.368223</td>\n",
       "      <td>99.150980</td>\n",
       "      <td>1002.996174</td>\n",
       "    </tr>\n",
       "    <tr>\n",
       "      <th>2012-01-05</th>\n",
       "      <td>304.960728</td>\n",
       "      <td>203.113258</td>\n",
       "      <td>396.478798</td>\n",
       "      <td>99.206837</td>\n",
       "      <td>1003.759620</td>\n",
       "    </tr>\n",
       "    <tr>\n",
       "      <th>2012-01-06</th>\n",
       "      <td>308.148725</td>\n",
       "      <td>202.361782</td>\n",
       "      <td>391.926999</td>\n",
       "      <td>101.999665</td>\n",
       "      <td>1004.437171</td>\n",
       "    </tr>\n",
       "    <tr>\n",
       "      <th>2012-01-09</th>\n",
       "      <td>307.659947</td>\n",
       "      <td>203.650027</td>\n",
       "      <td>389.887279</td>\n",
       "      <td>99.737474</td>\n",
       "      <td>1000.934727</td>\n",
       "    </tr>\n",
       "  </tbody>\n",
       "</table>\n",
       "</div>"
      ],
      "text/plain": [
       "                Stock1      Stock2      Stock3      Stock4        value\n",
       "Date                                                                   \n",
       "2012-01-03  300.000000  200.000000  400.000000  100.000000  1000.000000\n",
       "2012-01-04  301.612236  203.864734  398.368223   99.150980  1002.996174\n",
       "2012-01-05  304.960728  203.113258  396.478798   99.206837  1003.759620\n",
       "2012-01-06  308.148725  202.361782  391.926999  101.999665  1004.437171\n",
       "2012-01-09  307.659947  203.650027  389.887279   99.737474  1000.934727"
      ]
     },
     "execution_count": 49,
     "metadata": {},
     "output_type": "execute_result"
    }
   ],
   "source": [
    "portfolio['value'] = portfolio.sum(axis=1)\n",
    "portfolio.head()"
   ]
  },
  {
   "cell_type": "code",
   "execution_count": 50,
   "metadata": {},
   "outputs": [
    {
     "data": {
      "text/plain": [
       "<matplotlib.axes._subplots.AxesSubplot at 0x115c6fc50>"
      ]
     },
     "execution_count": 50,
     "metadata": {},
     "output_type": "execute_result"
    },
    {
     "data": {
      "image/png": "[encoded data removed]",
      "text/plain": [
       "<matplotlib.figure.Figure at 0x1153ed0b8>"
      ]
     },
     "metadata": {},
     "output_type": "display_data"
    }
   ],
   "source": [
    "portfolio.value.plot()"
   ]
  },
  {
   "cell_type": "code",
   "execution_count": 51,
   "metadata": {},
   "outputs": [
    {
     "data": {
      "text/plain": [
       "<matplotlib.axes._subplots.AxesSubplot at 0x115c22c88>"
      ]
     },
     "execution_count": 51,
     "metadata": {},
     "output_type": "execute_result"
    },
    {
     "data": {
      "image/png": "[encoded data removed]",
      "text/plain": [
       "<matplotlib.figure.Figure at 0x115c59550>"
      ]
     },
     "metadata": {},
     "output_type": "display_data"
    }
   ],
   "source": [
    "portfolio.plot()"
   ]
  },
  {
   "cell_type": "code",
   "execution_count": 52,
   "metadata": {
    "collapsed": true
   },
   "outputs": [],
   "source": [
    "portfolio['Daily Return'] = portfolio['value'].pct_change(1)"
   ]
  },
  {
   "cell_type": "code",
   "execution_count": 53,
   "metadata": {},
   "outputs": [
    {
     "data": {
      "text/plain": [
       "0.0005442330716215314"
      ]
     },
     "execution_count": 53,
     "metadata": {},
     "output_type": "execute_result"
    }
   ],
   "source": [
    "portfolio['Daily Return'].mean()"
   ]
  },
  {
   "cell_type": "code",
   "execution_count": 54,
   "metadata": {},
   "outputs": [
    {
     "data": {
      "text/plain": [
       "0.010568287769162557"
      ]
     },
     "execution_count": 54,
     "metadata": {},
     "output_type": "execute_result"
    }
   ],
   "source": [
    "portfolio['Daily Return'].std()"
   ]
  },
  {
   "cell_type": "code",
   "execution_count": 55,
   "metadata": {},
   "outputs": [
    {
     "data": {
      "text/plain": [
       "<matplotlib.axes._subplots.AxesSubplot at 0x115e96160>"
      ]
     },
     "execution_count": 55,
     "metadata": {},
     "output_type": "execute_result"
    },
    {
     "data": {
      "image/png": "[encoded data removed]",
      "text/plain": [
       "<matplotlib.figure.Figure at 0x114c10128>"
      ]
     },
     "metadata": {},
     "output_type": "display_data"
    }
   ],
   "source": [
    "portfolio['Daily Return'].plot(kind='hist', normed=1)"
   ]
  },
  {
   "cell_type": "code",
   "execution_count": 56,
   "metadata": {},
   "outputs": [
    {
     "data": {
      "text/plain": [
       "<matplotlib.axes._subplots.AxesSubplot at 0x115eea9e8>"
      ]
     },
     "execution_count": 56,
     "metadata": {},
     "output_type": "execute_result"
    },
    {
     "data": {
      "image/png": "[encoded data removed]",
      "text/plain": [
       "<matplotlib.figure.Figure at 0x115ec37b8>"
      ]
     },
     "metadata": {},
     "output_type": "display_data"
    }
   ],
   "source": [
    "portfolio['Daily Return'].plot(kind='kde')"
   ]
  },
  {
   "cell_type": "code",
   "execution_count": 57,
   "metadata": {
    "collapsed": true
   },
   "outputs": [],
   "source": [
    "portfolio_log_ret = np.log(portfolio['value']/portfolio['value'].shift(1))"
   ]
  },
  {
   "cell_type": "code",
   "execution_count": 58,
   "metadata": {},
   "outputs": [
    {
     "data": {
      "text/plain": [
       "<matplotlib.axes._subplots.AxesSubplot at 0x115c16a20>"
      ]
     },
     "execution_count": 58,
     "metadata": {},
     "output_type": "execute_result"
    },
    {
     "data": {
      "image/png": "[encoded data removed]",
      "text/plain": [
       "<matplotlib.figure.Figure at 0x1a179e6470>"
      ]
     },
     "metadata": {},
     "output_type": "display_data"
    }
   ],
   "source": [
    "portfolio_log_ret.plot()"
   ]
  },
  {
   "cell_type": "code",
   "execution_count": 59,
   "metadata": {},
   "outputs": [
    {
     "data": {
      "text/plain": [
       "<matplotlib.axes._subplots.AxesSubplot at 0x1a17afe780>"
      ]
     },
     "execution_count": 59,
     "metadata": {},
     "output_type": "execute_result"
    },
    {
     "data": {
      "image/png": "[encoded data removed]",
      "text/plain": [
       "<matplotlib.figure.Figure at 0x115eea668>"
      ]
     },
     "metadata": {},
     "output_type": "display_data"
    }
   ],
   "source": [
    "portfolio_log_ret.plot(kind='hist', bins=100, figsize = (10,8))\n",
    "portfolio['Daily Return'].plot(kind='hist', bins=100, figsize = (10,8))"
   ]
  },
  {
   "cell_type": "markdown",
   "metadata": {},
   "source": [
    "Sharp_Ratio = Time_value + risk \n",
    "\n",
    " = RF-rate + (r_m - RF-rate)/B"
   ]
  },
  {
   "cell_type": "code",
   "execution_count": 60,
   "metadata": {
    "collapsed": true
   },
   "outputs": [],
   "source": [
    "SR = portfolio['Daily Return'].mean()/portfolio['Daily Return'].std()"
   ]
  },
  {
   "cell_type": "code",
   "execution_count": 61,
   "metadata": {},
   "outputs": [
    {
     "data": {
      "text/plain": [
       "0.05149680662647749"
      ]
     },
     "execution_count": 61,
     "metadata": {},
     "output_type": "execute_result"
    }
   ],
   "source": [
    "SR"
   ]
  },
  {
   "cell_type": "code",
   "execution_count": 62,
   "metadata": {
    "collapsed": true
   },
   "outputs": [],
   "source": [
    "Ann_SR = SR *np.sqrt(252)"
   ]
  },
  {
   "cell_type": "code",
   "execution_count": 63,
   "metadata": {},
   "outputs": [
    {
     "data": {
      "text/plain": [
       "0.81748646188585505"
      ]
     },
     "execution_count": 63,
     "metadata": {},
     "output_type": "execute_result"
    }
   ],
   "source": [
    "Ann_SR"
   ]
  },
  {
   "cell_type": "code",
   "execution_count": null,
   "metadata": {},
   "outputs": [],
   "source": []
  },
  {
   "cell_type": "code",
   "execution_count": 64,
   "metadata": {},
   "outputs": [
    {
     "data": {
      "text/html": [
       "<div>\n",
       "<style>\n",
       "    .dataframe thead tr:only-child th {\n",
       "        text-align: right;\n",
       "    }\n",
       "\n",
       "    .dataframe thead th {\n",
       "        text-align: left;\n",
       "    }\n",
       "\n",
       "    .dataframe tbody tr th {\n",
       "        vertical-align: top;\n",
       "    }\n",
       "</style>\n",
       "<table border=\"1\" class=\"dataframe\">\n",
       "  <thead>\n",
       "    <tr style=\"text-align: right;\">\n",
       "      <th></th>\n",
       "      <th>Stock1</th>\n",
       "      <th>Stock2</th>\n",
       "      <th>Stock3</th>\n",
       "      <th>Stock4</th>\n",
       "      <th>value</th>\n",
       "      <th>Daily Return</th>\n",
       "    </tr>\n",
       "    <tr>\n",
       "      <th>Date</th>\n",
       "      <th></th>\n",
       "      <th></th>\n",
       "      <th></th>\n",
       "      <th></th>\n",
       "      <th></th>\n",
       "      <th></th>\n",
       "    </tr>\n",
       "  </thead>\n",
       "  <tbody>\n",
       "    <tr>\n",
       "      <th>2012-01-03</th>\n",
       "      <td>300.000000</td>\n",
       "      <td>200.000000</td>\n",
       "      <td>400.000000</td>\n",
       "      <td>100.000000</td>\n",
       "      <td>1000.000000</td>\n",
       "      <td>NaN</td>\n",
       "    </tr>\n",
       "    <tr>\n",
       "      <th>2012-01-04</th>\n",
       "      <td>301.612236</td>\n",
       "      <td>203.864734</td>\n",
       "      <td>398.368223</td>\n",
       "      <td>99.150980</td>\n",
       "      <td>1002.996174</td>\n",
       "      <td>0.002996</td>\n",
       "    </tr>\n",
       "    <tr>\n",
       "      <th>2012-01-05</th>\n",
       "      <td>304.960728</td>\n",
       "      <td>203.113258</td>\n",
       "      <td>396.478798</td>\n",
       "      <td>99.206837</td>\n",
       "      <td>1003.759620</td>\n",
       "      <td>0.000761</td>\n",
       "    </tr>\n",
       "    <tr>\n",
       "      <th>2012-01-06</th>\n",
       "      <td>308.148725</td>\n",
       "      <td>202.361782</td>\n",
       "      <td>391.926999</td>\n",
       "      <td>101.999665</td>\n",
       "      <td>1004.437171</td>\n",
       "      <td>0.000675</td>\n",
       "    </tr>\n",
       "    <tr>\n",
       "      <th>2012-01-09</th>\n",
       "      <td>307.659947</td>\n",
       "      <td>203.650027</td>\n",
       "      <td>389.887279</td>\n",
       "      <td>99.737474</td>\n",
       "      <td>1000.934727</td>\n",
       "      <td>-0.003487</td>\n",
       "    </tr>\n",
       "  </tbody>\n",
       "</table>\n",
       "</div>"
      ],
      "text/plain": [
       "                Stock1      Stock2      Stock3      Stock4        value  \\\n",
       "Date                                                                      \n",
       "2012-01-03  300.000000  200.000000  400.000000  100.000000  1000.000000   \n",
       "2012-01-04  301.612236  203.864734  398.368223   99.150980  1002.996174   \n",
       "2012-01-05  304.960728  203.113258  396.478798   99.206837  1003.759620   \n",
       "2012-01-06  308.148725  202.361782  391.926999  101.999665  1004.437171   \n",
       "2012-01-09  307.659947  203.650027  389.887279   99.737474  1000.934727   \n",
       "\n",
       "            Daily Return  \n",
       "Date                      \n",
       "2012-01-03           NaN  \n",
       "2012-01-04      0.002996  \n",
       "2012-01-05      0.000761  \n",
       "2012-01-06      0.000675  \n",
       "2012-01-09     -0.003487  "
      ]
     },
     "execution_count": 64,
     "metadata": {},
     "output_type": "execute_result"
    }
   ],
   "source": [
    "portfolio.head()"
   ]
  },
  {
   "cell_type": "code",
   "execution_count": 65,
   "metadata": {},
   "outputs": [
    {
     "data": {
      "text/plain": [
       "<matplotlib.axes._subplots.AxesSubplot at 0x1a17d2db00>"
      ]
     },
     "execution_count": 65,
     "metadata": {},
     "output_type": "execute_result"
    },
    {
     "data": {
      "image/png": "[encoded data removed]",
      "text/plain": [
       "<matplotlib.figure.Figure at 0x1a17b5de80>"
      ]
     },
     "metadata": {},
     "output_type": "display_data"
    }
   ],
   "source": [
    "portfolio['value'].plot()"
   ]
  },
  {
   "cell_type": "code",
   "execution_count": 66,
   "metadata": {},
   "outputs": [
    {
     "data": {
      "text/plain": [
       "Date\n",
       "2012-01-03         NaN\n",
       "2012-01-04    0.002992\n",
       "2012-01-05    0.000761\n",
       "2012-01-06    0.000675\n",
       "2012-01-09   -0.003493\n",
       "Name: value, dtype: float64"
      ]
     },
     "execution_count": 66,
     "metadata": {},
     "output_type": "execute_result"
    }
   ],
   "source": [
    "portfolio_log_ret.head()"
   ]
  },
  {
   "cell_type": "code",
   "execution_count": null,
   "metadata": {},
   "outputs": [],
   "source": []
  },
  {
   "cell_type": "code",
   "execution_count": 67,
   "metadata": {},
   "outputs": [
    {
     "data": {
      "text/html": [
       "<div>\n",
       "<style>\n",
       "    .dataframe thead tr:only-child th {\n",
       "        text-align: right;\n",
       "    }\n",
       "\n",
       "    .dataframe thead th {\n",
       "        text-align: left;\n",
       "    }\n",
       "\n",
       "    .dataframe tbody tr th {\n",
       "        vertical-align: top;\n",
       "    }\n",
       "</style>\n",
       "<table border=\"1\" class=\"dataframe\">\n",
       "  <thead>\n",
       "    <tr style=\"text-align: right;\">\n",
       "      <th></th>\n",
       "      <th>Adj. Close</th>\n",
       "      <th>NormReturn</th>\n",
       "      <th>Alloced</th>\n",
       "      <th>value</th>\n",
       "    </tr>\n",
       "    <tr>\n",
       "      <th>Date</th>\n",
       "      <th></th>\n",
       "      <th></th>\n",
       "      <th></th>\n",
       "      <th></th>\n",
       "    </tr>\n",
       "  </thead>\n",
       "  <tbody>\n",
       "    <tr>\n",
       "      <th>2012-01-03</th>\n",
       "      <td>53.063218</td>\n",
       "      <td>1.000000</td>\n",
       "      <td>0.300000</td>\n",
       "      <td>300.000000</td>\n",
       "    </tr>\n",
       "    <tr>\n",
       "      <th>2012-01-04</th>\n",
       "      <td>53.348386</td>\n",
       "      <td>1.005374</td>\n",
       "      <td>0.301612</td>\n",
       "      <td>301.612236</td>\n",
       "    </tr>\n",
       "    <tr>\n",
       "      <th>2012-01-05</th>\n",
       "      <td>53.940658</td>\n",
       "      <td>1.016536</td>\n",
       "      <td>0.304961</td>\n",
       "      <td>304.960728</td>\n",
       "    </tr>\n",
       "    <tr>\n",
       "      <th>2012-01-06</th>\n",
       "      <td>54.504543</td>\n",
       "      <td>1.027162</td>\n",
       "      <td>0.308149</td>\n",
       "      <td>308.148725</td>\n",
       "    </tr>\n",
       "    <tr>\n",
       "      <th>2012-01-09</th>\n",
       "      <td>54.418089</td>\n",
       "      <td>1.025533</td>\n",
       "      <td>0.307660</td>\n",
       "      <td>307.659947</td>\n",
       "    </tr>\n",
       "  </tbody>\n",
       "</table>\n",
       "</div>"
      ],
      "text/plain": [
       "            Adj. Close  NormReturn   Alloced       value\n",
       "Date                                                    \n",
       "2012-01-03   53.063218    1.000000  0.300000  300.000000\n",
       "2012-01-04   53.348386    1.005374  0.301612  301.612236\n",
       "2012-01-05   53.940658    1.016536  0.304961  304.960728\n",
       "2012-01-06   54.504543    1.027162  0.308149  308.148725\n",
       "2012-01-09   54.418089    1.025533  0.307660  307.659947"
      ]
     },
     "execution_count": 67,
     "metadata": {},
     "output_type": "execute_result"
    }
   ],
   "source": [
    "stock1.head()"
   ]
  },
  {
   "cell_type": "code",
   "execution_count": 68,
   "metadata": {
    "collapsed": true
   },
   "outputs": [],
   "source": [
    "stocks = pd.concat([stock1.value, stock2.value, stock3.value, stock4.value], axis=1)"
   ]
  },
  {
   "cell_type": "code",
   "execution_count": 69,
   "metadata": {
    "collapsed": true
   },
   "outputs": [],
   "source": [
    "stocks.columns = ['Stock1', 'Stock2', 'Stock3', 'Stock4']"
   ]
  },
  {
   "cell_type": "code",
   "execution_count": 70,
   "metadata": {},
   "outputs": [
    {
     "data": {
      "text/html": [
       "<div>\n",
       "<style>\n",
       "    .dataframe thead tr:only-child th {\n",
       "        text-align: right;\n",
       "    }\n",
       "\n",
       "    .dataframe thead th {\n",
       "        text-align: left;\n",
       "    }\n",
       "\n",
       "    .dataframe tbody tr th {\n",
       "        vertical-align: top;\n",
       "    }\n",
       "</style>\n",
       "<table border=\"1\" class=\"dataframe\">\n",
       "  <thead>\n",
       "    <tr style=\"text-align: right;\">\n",
       "      <th></th>\n",
       "      <th>Stock1</th>\n",
       "      <th>Stock2</th>\n",
       "      <th>Stock3</th>\n",
       "      <th>Stock4</th>\n",
       "    </tr>\n",
       "    <tr>\n",
       "      <th>Date</th>\n",
       "      <th></th>\n",
       "      <th></th>\n",
       "      <th></th>\n",
       "      <th></th>\n",
       "    </tr>\n",
       "  </thead>\n",
       "  <tbody>\n",
       "    <tr>\n",
       "      <th>2012-01-03</th>\n",
       "      <td>300.000000</td>\n",
       "      <td>200.000000</td>\n",
       "      <td>400.000000</td>\n",
       "      <td>100.000000</td>\n",
       "    </tr>\n",
       "    <tr>\n",
       "      <th>2012-01-04</th>\n",
       "      <td>301.612236</td>\n",
       "      <td>203.864734</td>\n",
       "      <td>398.368223</td>\n",
       "      <td>99.150980</td>\n",
       "    </tr>\n",
       "    <tr>\n",
       "      <th>2012-01-05</th>\n",
       "      <td>304.960728</td>\n",
       "      <td>203.113258</td>\n",
       "      <td>396.478798</td>\n",
       "      <td>99.206837</td>\n",
       "    </tr>\n",
       "    <tr>\n",
       "      <th>2012-01-06</th>\n",
       "      <td>308.148725</td>\n",
       "      <td>202.361782</td>\n",
       "      <td>391.926999</td>\n",
       "      <td>101.999665</td>\n",
       "    </tr>\n",
       "    <tr>\n",
       "      <th>2012-01-09</th>\n",
       "      <td>307.659947</td>\n",
       "      <td>203.650027</td>\n",
       "      <td>389.887279</td>\n",
       "      <td>99.737474</td>\n",
       "    </tr>\n",
       "  </tbody>\n",
       "</table>\n",
       "</div>"
      ],
      "text/plain": [
       "                Stock1      Stock2      Stock3      Stock4\n",
       "Date                                                      \n",
       "2012-01-03  300.000000  200.000000  400.000000  100.000000\n",
       "2012-01-04  301.612236  203.864734  398.368223   99.150980\n",
       "2012-01-05  304.960728  203.113258  396.478798   99.206837\n",
       "2012-01-06  308.148725  202.361782  391.926999  101.999665\n",
       "2012-01-09  307.659947  203.650027  389.887279   99.737474"
      ]
     },
     "execution_count": 70,
     "metadata": {},
     "output_type": "execute_result"
    }
   ],
   "source": [
    "stocks.head()"
   ]
  },
  {
   "cell_type": "code",
   "execution_count": 71,
   "metadata": {},
   "outputs": [
    {
     "data": {
      "text/html": [
       "<div>\n",
       "<style>\n",
       "    .dataframe thead tr:only-child th {\n",
       "        text-align: right;\n",
       "    }\n",
       "\n",
       "    .dataframe thead th {\n",
       "        text-align: left;\n",
       "    }\n",
       "\n",
       "    .dataframe tbody tr th {\n",
       "        vertical-align: top;\n",
       "    }\n",
       "</style>\n",
       "<table border=\"1\" class=\"dataframe\">\n",
       "  <thead>\n",
       "    <tr style=\"text-align: right;\">\n",
       "      <th></th>\n",
       "      <th>Stock1</th>\n",
       "      <th>Stock2</th>\n",
       "      <th>Stock3</th>\n",
       "      <th>Stock4</th>\n",
       "    </tr>\n",
       "  </thead>\n",
       "  <tbody>\n",
       "    <tr>\n",
       "      <th>Stock1</th>\n",
       "      <td>1.000000</td>\n",
       "      <td>0.761750</td>\n",
       "      <td>-0.641222</td>\n",
       "      <td>0.622865</td>\n",
       "    </tr>\n",
       "    <tr>\n",
       "      <th>Stock2</th>\n",
       "      <td>0.761750</td>\n",
       "      <td>1.000000</td>\n",
       "      <td>-0.594130</td>\n",
       "      <td>0.840519</td>\n",
       "    </tr>\n",
       "    <tr>\n",
       "      <th>Stock3</th>\n",
       "      <td>-0.641222</td>\n",
       "      <td>-0.594130</td>\n",
       "      <td>1.000000</td>\n",
       "      <td>-0.635423</td>\n",
       "    </tr>\n",
       "    <tr>\n",
       "      <th>Stock4</th>\n",
       "      <td>0.622865</td>\n",
       "      <td>0.840519</td>\n",
       "      <td>-0.635423</td>\n",
       "      <td>1.000000</td>\n",
       "    </tr>\n",
       "  </tbody>\n",
       "</table>\n",
       "</div>"
      ],
      "text/plain": [
       "          Stock1    Stock2    Stock3    Stock4\n",
       "Stock1  1.000000  0.761750 -0.641222  0.622865\n",
       "Stock2  0.761750  1.000000 -0.594130  0.840519\n",
       "Stock3 -0.641222 -0.594130  1.000000 -0.635423\n",
       "Stock4  0.622865  0.840519 -0.635423  1.000000"
      ]
     },
     "execution_count": 71,
     "metadata": {},
     "output_type": "execute_result"
    }
   ],
   "source": [
    "stocks.corr()"
   ]
  },
  {
   "cell_type": "code",
   "execution_count": 72,
   "metadata": {},
   "outputs": [
    {
     "data": {
      "text/html": [
       "<div>\n",
       "<style>\n",
       "    .dataframe thead tr:only-child th {\n",
       "        text-align: right;\n",
       "    }\n",
       "\n",
       "    .dataframe thead th {\n",
       "        text-align: left;\n",
       "    }\n",
       "\n",
       "    .dataframe tbody tr th {\n",
       "        vertical-align: top;\n",
       "    }\n",
       "</style>\n",
       "<table border=\"1\" class=\"dataframe\">\n",
       "  <thead>\n",
       "    <tr style=\"text-align: right;\">\n",
       "      <th></th>\n",
       "      <th>Stock1</th>\n",
       "      <th>Stock2</th>\n",
       "      <th>Stock3</th>\n",
       "      <th>Stock4</th>\n",
       "    </tr>\n",
       "  </thead>\n",
       "  <tbody>\n",
       "    <tr>\n",
       "      <th>Stock1</th>\n",
       "      <td>14163.268633</td>\n",
       "      <td>5252.903158</td>\n",
       "      <td>-2963.877771</td>\n",
       "      <td>7565.166633</td>\n",
       "    </tr>\n",
       "    <tr>\n",
       "      <th>Stock2</th>\n",
       "      <td>5252.903158</td>\n",
       "      <td>3357.453093</td>\n",
       "      <td>-1337.075457</td>\n",
       "      <td>4970.442156</td>\n",
       "    </tr>\n",
       "    <tr>\n",
       "      <th>Stock3</th>\n",
       "      <td>-2963.877771</td>\n",
       "      <td>-1337.075457</td>\n",
       "      <td>1508.480220</td>\n",
       "      <td>-2518.692595</td>\n",
       "    </tr>\n",
       "    <tr>\n",
       "      <th>Stock4</th>\n",
       "      <td>7565.166633</td>\n",
       "      <td>4970.442156</td>\n",
       "      <td>-2518.692595</td>\n",
       "      <td>10415.617232</td>\n",
       "    </tr>\n",
       "  </tbody>\n",
       "</table>\n",
       "</div>"
      ],
      "text/plain": [
       "              Stock1       Stock2       Stock3        Stock4\n",
       "Stock1  14163.268633  5252.903158 -2963.877771   7565.166633\n",
       "Stock2   5252.903158  3357.453093 -1337.075457   4970.442156\n",
       "Stock3  -2963.877771 -1337.075457  1508.480220  -2518.692595\n",
       "Stock4   7565.166633  4970.442156 -2518.692595  10415.617232"
      ]
     },
     "execution_count": 72,
     "metadata": {},
     "output_type": "execute_result"
    }
   ],
   "source": [
    "stocks.cov()"
   ]
  },
  {
   "cell_type": "markdown",
   "metadata": {},
   "source": [
    "Sharp_Ratio = Time_value + risk\n",
    "= RF-rate + (r_m - RF-rate)/B"
   ]
  },
  {
   "cell_type": "code",
   "execution_count": 73,
   "metadata": {
    "collapsed": true
   },
   "outputs": [],
   "source": [
    "SR = np.sqrt(255)*portfolio['Daily Return'].mean()/portfolio['Daily Return'].std()"
   ]
  },
  {
   "cell_type": "code",
   "execution_count": 74,
   "metadata": {},
   "outputs": [
    {
     "data": {
      "text/plain": [
       "0.8223380561817798"
      ]
     },
     "execution_count": 74,
     "metadata": {},
     "output_type": "execute_result"
    }
   ],
   "source": [
    "SR"
   ]
  },
  {
   "cell_type": "markdown",
   "metadata": {},
   "source": [
    "## Portfolio optimization \n",
    "\n",
    "## 1- Monte Carlo simulation"
   ]
  },
  {
   "cell_type": "code",
   "execution_count": 75,
   "metadata": {
    "collapsed": true
   },
   "outputs": [],
   "source": [
    "#1- random assignment of weights\n",
    "\n",
    "#2- Form the portfolio\n",
    "\n",
    "#3- Get SR\n",
    "\n",
    "#4- Find weights for which SR is maximized"
   ]
  },
  {
   "cell_type": "code",
   "execution_count": 76,
   "metadata": {
    "collapsed": true
   },
   "outputs": [],
   "source": [
    "np.random.seed(10)\n",
    "weights = np.array(np.random.random(4))"
   ]
  },
  {
   "cell_type": "code",
   "execution_count": 77,
   "metadata": {
    "collapsed": true
   },
   "outputs": [],
   "source": [
    "weights = weights/sum(weights)"
   ]
  },
  {
   "cell_type": "code",
   "execution_count": 78,
   "metadata": {},
   "outputs": [
    {
     "data": {
      "text/plain": [
       "array([ 0.35470769,  0.00954321,  0.2913962 ,  0.3443529 ])"
      ]
     },
     "execution_count": 78,
     "metadata": {},
     "output_type": "execute_result"
    }
   ],
   "source": [
    "weights"
   ]
  },
  {
   "cell_type": "code",
   "execution_count": 79,
   "metadata": {},
   "outputs": [
    {
     "data": {
      "text/html": [
       "<div>\n",
       "<style>\n",
       "    .dataframe thead tr:only-child th {\n",
       "        text-align: right;\n",
       "    }\n",
       "\n",
       "    .dataframe thead th {\n",
       "        text-align: left;\n",
       "    }\n",
       "\n",
       "    .dataframe tbody tr th {\n",
       "        vertical-align: top;\n",
       "    }\n",
       "</style>\n",
       "<table border=\"1\" class=\"dataframe\">\n",
       "  <thead>\n",
       "    <tr style=\"text-align: right;\">\n",
       "      <th></th>\n",
       "      <th>Stock1</th>\n",
       "      <th>Stock2</th>\n",
       "      <th>Stock3</th>\n",
       "      <th>Stock4</th>\n",
       "      <th>value</th>\n",
       "      <th>Daily Return</th>\n",
       "    </tr>\n",
       "    <tr>\n",
       "      <th>Date</th>\n",
       "      <th></th>\n",
       "      <th></th>\n",
       "      <th></th>\n",
       "      <th></th>\n",
       "      <th></th>\n",
       "      <th></th>\n",
       "    </tr>\n",
       "  </thead>\n",
       "  <tbody>\n",
       "    <tr>\n",
       "      <th>2012-01-03</th>\n",
       "      <td>300.000000</td>\n",
       "      <td>200.000000</td>\n",
       "      <td>400.000000</td>\n",
       "      <td>100.000000</td>\n",
       "      <td>1000.000000</td>\n",
       "      <td>NaN</td>\n",
       "    </tr>\n",
       "    <tr>\n",
       "      <th>2012-01-04</th>\n",
       "      <td>301.612236</td>\n",
       "      <td>203.864734</td>\n",
       "      <td>398.368223</td>\n",
       "      <td>99.150980</td>\n",
       "      <td>1002.996174</td>\n",
       "      <td>0.002996</td>\n",
       "    </tr>\n",
       "    <tr>\n",
       "      <th>2012-01-05</th>\n",
       "      <td>304.960728</td>\n",
       "      <td>203.113258</td>\n",
       "      <td>396.478798</td>\n",
       "      <td>99.206837</td>\n",
       "      <td>1003.759620</td>\n",
       "      <td>0.000761</td>\n",
       "    </tr>\n",
       "    <tr>\n",
       "      <th>2012-01-06</th>\n",
       "      <td>308.148725</td>\n",
       "      <td>202.361782</td>\n",
       "      <td>391.926999</td>\n",
       "      <td>101.999665</td>\n",
       "      <td>1004.437171</td>\n",
       "      <td>0.000675</td>\n",
       "    </tr>\n",
       "    <tr>\n",
       "      <th>2012-01-09</th>\n",
       "      <td>307.659947</td>\n",
       "      <td>203.650027</td>\n",
       "      <td>389.887279</td>\n",
       "      <td>99.737474</td>\n",
       "      <td>1000.934727</td>\n",
       "      <td>-0.003487</td>\n",
       "    </tr>\n",
       "  </tbody>\n",
       "</table>\n",
       "</div>"
      ],
      "text/plain": [
       "                Stock1      Stock2      Stock3      Stock4        value  \\\n",
       "Date                                                                      \n",
       "2012-01-03  300.000000  200.000000  400.000000  100.000000  1000.000000   \n",
       "2012-01-04  301.612236  203.864734  398.368223   99.150980  1002.996174   \n",
       "2012-01-05  304.960728  203.113258  396.478798   99.206837  1003.759620   \n",
       "2012-01-06  308.148725  202.361782  391.926999  101.999665  1004.437171   \n",
       "2012-01-09  307.659947  203.650027  389.887279   99.737474  1000.934727   \n",
       "\n",
       "            Daily Return  \n",
       "Date                      \n",
       "2012-01-03           NaN  \n",
       "2012-01-04      0.002996  \n",
       "2012-01-05      0.000761  \n",
       "2012-01-06      0.000675  \n",
       "2012-01-09     -0.003487  "
      ]
     },
     "execution_count": 79,
     "metadata": {},
     "output_type": "execute_result"
    }
   ],
   "source": [
    "portfolio.head()"
   ]
  },
  {
   "cell_type": "code",
   "execution_count": 80,
   "metadata": {},
   "outputs": [
    {
     "data": {
      "text/html": [
       "<div>\n",
       "<style>\n",
       "    .dataframe thead tr:only-child th {\n",
       "        text-align: right;\n",
       "    }\n",
       "\n",
       "    .dataframe thead th {\n",
       "        text-align: left;\n",
       "    }\n",
       "\n",
       "    .dataframe tbody tr th {\n",
       "        vertical-align: top;\n",
       "    }\n",
       "</style>\n",
       "<table border=\"1\" class=\"dataframe\">\n",
       "  <thead>\n",
       "    <tr style=\"text-align: right;\">\n",
       "      <th></th>\n",
       "      <th>Adj. Close</th>\n",
       "      <th>NormReturn</th>\n",
       "      <th>Alloced</th>\n",
       "      <th>value</th>\n",
       "    </tr>\n",
       "    <tr>\n",
       "      <th>Date</th>\n",
       "      <th></th>\n",
       "      <th></th>\n",
       "      <th></th>\n",
       "      <th></th>\n",
       "    </tr>\n",
       "  </thead>\n",
       "  <tbody>\n",
       "    <tr>\n",
       "      <th>2012-01-03</th>\n",
       "      <td>15.752778</td>\n",
       "      <td>1.000000</td>\n",
       "      <td>0.200000</td>\n",
       "      <td>200.000000</td>\n",
       "    </tr>\n",
       "    <tr>\n",
       "      <th>2012-01-04</th>\n",
       "      <td>16.057180</td>\n",
       "      <td>1.019324</td>\n",
       "      <td>0.203865</td>\n",
       "      <td>203.864734</td>\n",
       "    </tr>\n",
       "    <tr>\n",
       "      <th>2012-01-05</th>\n",
       "      <td>15.997991</td>\n",
       "      <td>1.015566</td>\n",
       "      <td>0.203113</td>\n",
       "      <td>203.113258</td>\n",
       "    </tr>\n",
       "    <tr>\n",
       "      <th>2012-01-06</th>\n",
       "      <td>15.938801</td>\n",
       "      <td>1.011809</td>\n",
       "      <td>0.202362</td>\n",
       "      <td>202.361782</td>\n",
       "    </tr>\n",
       "    <tr>\n",
       "      <th>2012-01-09</th>\n",
       "      <td>16.040268</td>\n",
       "      <td>1.018250</td>\n",
       "      <td>0.203650</td>\n",
       "      <td>203.650027</td>\n",
       "    </tr>\n",
       "  </tbody>\n",
       "</table>\n",
       "</div>"
      ],
      "text/plain": [
       "            Adj. Close  NormReturn   Alloced       value\n",
       "Date                                                    \n",
       "2012-01-03   15.752778    1.000000  0.200000  200.000000\n",
       "2012-01-04   16.057180    1.019324  0.203865  203.864734\n",
       "2012-01-05   15.997991    1.015566  0.203113  203.113258\n",
       "2012-01-06   15.938801    1.011809  0.202362  202.361782\n",
       "2012-01-09   16.040268    1.018250  0.203650  203.650027"
      ]
     },
     "execution_count": 80,
     "metadata": {},
     "output_type": "execute_result"
    }
   ],
   "source": [
    "stock1.head()\n",
    "stock2.head()"
   ]
  },
  {
   "cell_type": "code",
   "execution_count": 81,
   "metadata": {
    "collapsed": true
   },
   "outputs": [],
   "source": [
    "normreturns = pd.concat([stock1.NormReturn, stock2.NormReturn, stock3.NormReturn, stock4.NormReturn], axis=1)"
   ]
  },
  {
   "cell_type": "code",
   "execution_count": 82,
   "metadata": {},
   "outputs": [
    {
     "data": {
      "text/html": [
       "<div>\n",
       "<style>\n",
       "    .dataframe thead tr:only-child th {\n",
       "        text-align: right;\n",
       "    }\n",
       "\n",
       "    .dataframe thead th {\n",
       "        text-align: left;\n",
       "    }\n",
       "\n",
       "    .dataframe tbody tr th {\n",
       "        vertical-align: top;\n",
       "    }\n",
       "</style>\n",
       "<table border=\"1\" class=\"dataframe\">\n",
       "  <thead>\n",
       "    <tr style=\"text-align: right;\">\n",
       "      <th></th>\n",
       "      <th>NormReturn</th>\n",
       "      <th>NormReturn</th>\n",
       "      <th>NormReturn</th>\n",
       "      <th>NormReturn</th>\n",
       "    </tr>\n",
       "    <tr>\n",
       "      <th>Date</th>\n",
       "      <th></th>\n",
       "      <th></th>\n",
       "      <th></th>\n",
       "      <th></th>\n",
       "    </tr>\n",
       "  </thead>\n",
       "  <tbody>\n",
       "    <tr>\n",
       "      <th>2012-01-03</th>\n",
       "      <td>1.000000</td>\n",
       "      <td>1.000000</td>\n",
       "      <td>1.000000</td>\n",
       "      <td>1.000000</td>\n",
       "    </tr>\n",
       "    <tr>\n",
       "      <th>2012-01-04</th>\n",
       "      <td>1.005374</td>\n",
       "      <td>1.019324</td>\n",
       "      <td>0.995921</td>\n",
       "      <td>0.991510</td>\n",
       "    </tr>\n",
       "    <tr>\n",
       "      <th>2012-01-05</th>\n",
       "      <td>1.016536</td>\n",
       "      <td>1.015566</td>\n",
       "      <td>0.991197</td>\n",
       "      <td>0.992068</td>\n",
       "    </tr>\n",
       "    <tr>\n",
       "      <th>2012-01-06</th>\n",
       "      <td>1.027162</td>\n",
       "      <td>1.011809</td>\n",
       "      <td>0.979817</td>\n",
       "      <td>1.019997</td>\n",
       "    </tr>\n",
       "    <tr>\n",
       "      <th>2012-01-09</th>\n",
       "      <td>1.025533</td>\n",
       "      <td>1.018250</td>\n",
       "      <td>0.974718</td>\n",
       "      <td>0.997375</td>\n",
       "    </tr>\n",
       "    <tr>\n",
       "      <th>2012-01-10</th>\n",
       "      <td>1.029205</td>\n",
       "      <td>1.010735</td>\n",
       "      <td>0.973215</td>\n",
       "      <td>1.001732</td>\n",
       "    </tr>\n",
       "    <tr>\n",
       "      <th>2012-01-11</th>\n",
       "      <td>1.027527</td>\n",
       "      <td>1.023618</td>\n",
       "      <td>0.978637</td>\n",
       "      <td>0.999274</td>\n",
       "    </tr>\n",
       "    <tr>\n",
       "      <th>2012-01-12</th>\n",
       "      <td>1.024706</td>\n",
       "      <td>1.027912</td>\n",
       "      <td>0.969136</td>\n",
       "      <td>0.982684</td>\n",
       "    </tr>\n",
       "    <tr>\n",
       "      <th>2012-01-13</th>\n",
       "      <td>1.020864</td>\n",
       "      <td>1.023081</td>\n",
       "      <td>0.961675</td>\n",
       "      <td>0.996593</td>\n",
       "    </tr>\n",
       "    <tr>\n",
       "      <th>2012-01-17</th>\n",
       "      <td>1.032755</td>\n",
       "      <td>1.036232</td>\n",
       "      <td>0.966184</td>\n",
       "      <td>1.014690</td>\n",
       "    </tr>\n",
       "    <tr>\n",
       "      <th>2012-01-18</th>\n",
       "      <td>1.043479</td>\n",
       "      <td>1.048846</td>\n",
       "      <td>0.971927</td>\n",
       "      <td>1.058147</td>\n",
       "    </tr>\n",
       "    <tr>\n",
       "      <th>2012-01-19</th>\n",
       "      <td>1.040172</td>\n",
       "      <td>1.062265</td>\n",
       "      <td>0.968975</td>\n",
       "      <td>1.086131</td>\n",
       "    </tr>\n",
       "    <tr>\n",
       "      <th>2012-01-20</th>\n",
       "      <td>1.022056</td>\n",
       "      <td>1.069243</td>\n",
       "      <td>1.011916</td>\n",
       "      <td>1.066469</td>\n",
       "    </tr>\n",
       "    <tr>\n",
       "      <th>2012-01-23</th>\n",
       "      <td>1.039343</td>\n",
       "      <td>1.064412</td>\n",
       "      <td>1.019753</td>\n",
       "      <td>1.039435</td>\n",
       "    </tr>\n",
       "    <tr>\n",
       "      <th>2012-01-24</th>\n",
       "      <td>1.022323</td>\n",
       "      <td>1.063607</td>\n",
       "      <td>1.030220</td>\n",
       "      <td>1.044518</td>\n",
       "    </tr>\n",
       "    <tr>\n",
       "      <th>2012-01-25</th>\n",
       "      <td>1.086156</td>\n",
       "      <td>1.064412</td>\n",
       "      <td>1.029147</td>\n",
       "      <td>1.048986</td>\n",
       "    </tr>\n",
       "    <tr>\n",
       "      <th>2012-01-26</th>\n",
       "      <td>1.081220</td>\n",
       "      <td>1.064412</td>\n",
       "      <td>1.025121</td>\n",
       "      <td>1.079797</td>\n",
       "    </tr>\n",
       "    <tr>\n",
       "      <th>2012-01-27</th>\n",
       "      <td>1.087664</td>\n",
       "      <td>1.049919</td>\n",
       "      <td>1.022330</td>\n",
       "      <td>1.091270</td>\n",
       "    </tr>\n",
       "    <tr>\n",
       "      <th>2012-01-30</th>\n",
       "      <td>1.101598</td>\n",
       "      <td>1.049919</td>\n",
       "      <td>1.033280</td>\n",
       "      <td>1.073284</td>\n",
       "    </tr>\n",
       "    <tr>\n",
       "      <th>2012-01-31</th>\n",
       "      <td>1.110036</td>\n",
       "      <td>1.054482</td>\n",
       "      <td>1.033816</td>\n",
       "      <td>1.086075</td>\n",
       "    </tr>\n",
       "    <tr>\n",
       "      <th>2012-02-01</th>\n",
       "      <td>1.109331</td>\n",
       "      <td>1.062802</td>\n",
       "      <td>1.033924</td>\n",
       "      <td>1.002402</td>\n",
       "    </tr>\n",
       "    <tr>\n",
       "      <th>2012-02-02</th>\n",
       "      <td>1.106729</td>\n",
       "      <td>1.062802</td>\n",
       "      <td>1.028073</td>\n",
       "      <td>1.015025</td>\n",
       "    </tr>\n",
       "    <tr>\n",
       "      <th>2012-02-03</th>\n",
       "      <td>1.117817</td>\n",
       "      <td>1.078368</td>\n",
       "      <td>1.039399</td>\n",
       "      <td>1.048316</td>\n",
       "    </tr>\n",
       "    <tr>\n",
       "      <th>2012-02-06</th>\n",
       "      <td>1.128249</td>\n",
       "      <td>1.083736</td>\n",
       "      <td>1.034997</td>\n",
       "      <td>1.022957</td>\n",
       "    </tr>\n",
       "    <tr>\n",
       "      <th>2012-02-07</th>\n",
       "      <td>1.140068</td>\n",
       "      <td>1.084273</td>\n",
       "      <td>1.037842</td>\n",
       "      <td>1.028822</td>\n",
       "    </tr>\n",
       "    <tr>\n",
       "      <th>2012-02-08</th>\n",
       "      <td>1.159157</td>\n",
       "      <td>1.096618</td>\n",
       "      <td>1.039721</td>\n",
       "      <td>1.036027</td>\n",
       "    </tr>\n",
       "    <tr>\n",
       "      <th>2012-02-09</th>\n",
       "      <td>1.199256</td>\n",
       "      <td>1.073537</td>\n",
       "      <td>1.040691</td>\n",
       "      <td>1.033235</td>\n",
       "    </tr>\n",
       "    <tr>\n",
       "      <th>2012-02-10</th>\n",
       "      <td>1.199864</td>\n",
       "      <td>1.067901</td>\n",
       "      <td>1.036865</td>\n",
       "      <td>1.036363</td>\n",
       "    </tr>\n",
       "    <tr>\n",
       "      <th>2012-02-13</th>\n",
       "      <td>1.222187</td>\n",
       "      <td>1.075148</td>\n",
       "      <td>1.037943</td>\n",
       "      <td>1.070156</td>\n",
       "    </tr>\n",
       "    <tr>\n",
       "      <th>2012-02-14</th>\n",
       "      <td>1.238869</td>\n",
       "      <td>1.077295</td>\n",
       "      <td>1.035787</td>\n",
       "      <td>1.068536</td>\n",
       "    </tr>\n",
       "    <tr>\n",
       "      <th>...</th>\n",
       "      <td>...</td>\n",
       "      <td>...</td>\n",
       "      <td>...</td>\n",
       "      <td>...</td>\n",
       "    </tr>\n",
       "    <tr>\n",
       "      <th>2016-11-17</th>\n",
       "      <td>2.054767</td>\n",
       "      <td>1.857672</td>\n",
       "      <td>0.976188</td>\n",
       "      <td>4.224990</td>\n",
       "    </tr>\n",
       "    <tr>\n",
       "      <th>2016-11-18</th>\n",
       "      <td>2.056823</td>\n",
       "      <td>1.865708</td>\n",
       "      <td>0.979792</td>\n",
       "      <td>4.245992</td>\n",
       "    </tr>\n",
       "    <tr>\n",
       "      <th>2016-11-21</th>\n",
       "      <td>2.088032</td>\n",
       "      <td>1.857672</td>\n",
       "      <td>0.994331</td>\n",
       "      <td>4.356812</td>\n",
       "    </tr>\n",
       "    <tr>\n",
       "      <th>2016-11-22</th>\n",
       "      <td>2.089340</td>\n",
       "      <td>1.847781</td>\n",
       "      <td>0.993720</td>\n",
       "      <td>4.386583</td>\n",
       "    </tr>\n",
       "    <tr>\n",
       "      <th>2016-11-23</th>\n",
       "      <td>2.078688</td>\n",
       "      <td>1.836653</td>\n",
       "      <td>0.989505</td>\n",
       "      <td>4.357482</td>\n",
       "    </tr>\n",
       "    <tr>\n",
       "      <th>2016-11-25</th>\n",
       "      <td>2.089154</td>\n",
       "      <td>1.860145</td>\n",
       "      <td>0.996591</td>\n",
       "      <td>4.358878</td>\n",
       "    </tr>\n",
       "    <tr>\n",
       "      <th>2016-11-28</th>\n",
       "      <td>2.085042</td>\n",
       "      <td>1.849635</td>\n",
       "      <td>1.005022</td>\n",
       "      <td>4.282913</td>\n",
       "    </tr>\n",
       "    <tr>\n",
       "      <th>2016-11-29</th>\n",
       "      <td>2.082986</td>\n",
       "      <td>1.844072</td>\n",
       "      <td>0.998974</td>\n",
       "      <td>4.259174</td>\n",
       "    </tr>\n",
       "    <tr>\n",
       "      <th>2016-11-30</th>\n",
       "      <td>2.065420</td>\n",
       "      <td>1.843453</td>\n",
       "      <td>0.990971</td>\n",
       "      <td>4.192426</td>\n",
       "    </tr>\n",
       "    <tr>\n",
       "      <th>2016-12-01</th>\n",
       "      <td>2.046171</td>\n",
       "      <td>1.820580</td>\n",
       "      <td>0.976310</td>\n",
       "      <td>4.153773</td>\n",
       "    </tr>\n",
       "    <tr>\n",
       "      <th>2016-12-02</th>\n",
       "      <td>2.053833</td>\n",
       "      <td>1.808216</td>\n",
       "      <td>0.977532</td>\n",
       "      <td>4.135285</td>\n",
       "    </tr>\n",
       "    <tr>\n",
       "      <th>2016-12-05</th>\n",
       "      <td>2.039069</td>\n",
       "      <td>1.825526</td>\n",
       "      <td>0.976432</td>\n",
       "      <td>4.241524</td>\n",
       "    </tr>\n",
       "    <tr>\n",
       "      <th>2016-12-06</th>\n",
       "      <td>2.054767</td>\n",
       "      <td>1.813162</td>\n",
       "      <td>0.979548</td>\n",
       "      <td>4.271463</td>\n",
       "    </tr>\n",
       "    <tr>\n",
       "      <th>2016-12-07</th>\n",
       "      <td>2.074951</td>\n",
       "      <td>1.851490</td>\n",
       "      <td>1.006671</td>\n",
       "      <td>4.303301</td>\n",
       "    </tr>\n",
       "    <tr>\n",
       "      <th>2016-12-08</th>\n",
       "      <td>2.095321</td>\n",
       "      <td>1.851490</td>\n",
       "      <td>1.010153</td>\n",
       "      <td>4.286041</td>\n",
       "    </tr>\n",
       "    <tr>\n",
       "      <th>2016-12-09</th>\n",
       "      <td>2.129520</td>\n",
       "      <td>1.858290</td>\n",
       "      <td>1.017239</td>\n",
       "      <td>4.293470</td>\n",
       "    </tr>\n",
       "    <tr>\n",
       "      <th>2016-12-12</th>\n",
       "      <td>2.117373</td>\n",
       "      <td>1.865090</td>\n",
       "      <td>1.011008</td>\n",
       "      <td>4.245769</td>\n",
       "    </tr>\n",
       "    <tr>\n",
       "      <th>2016-12-13</th>\n",
       "      <td>2.152693</td>\n",
       "      <td>1.891054</td>\n",
       "      <td>1.028052</td>\n",
       "      <td>4.325197</td>\n",
       "    </tr>\n",
       "    <tr>\n",
       "      <th>2016-12-14</th>\n",
       "      <td>2.152693</td>\n",
       "      <td>1.883018</td>\n",
       "      <td>1.029396</td>\n",
       "      <td>4.294364</td>\n",
       "    </tr>\n",
       "    <tr>\n",
       "      <th>2016-12-15</th>\n",
       "      <td>2.164467</td>\n",
       "      <td>1.893527</td>\n",
       "      <td>1.026402</td>\n",
       "      <td>4.250684</td>\n",
       "    </tr>\n",
       "    <tr>\n",
       "      <th>2016-12-16</th>\n",
       "      <td>2.167270</td>\n",
       "      <td>1.891054</td>\n",
       "      <td>1.018522</td>\n",
       "      <td>4.232643</td>\n",
       "    </tr>\n",
       "    <tr>\n",
       "      <th>2016-12-19</th>\n",
       "      <td>2.179791</td>\n",
       "      <td>1.900945</td>\n",
       "      <td>1.018217</td>\n",
       "      <td>4.278613</td>\n",
       "    </tr>\n",
       "    <tr>\n",
       "      <th>2016-12-20</th>\n",
       "      <td>2.185585</td>\n",
       "      <td>1.889200</td>\n",
       "      <td>1.023837</td>\n",
       "      <td>4.307770</td>\n",
       "    </tr>\n",
       "    <tr>\n",
       "      <th>2016-12-21</th>\n",
       "      <td>2.187640</td>\n",
       "      <td>1.880545</td>\n",
       "      <td>1.022187</td>\n",
       "      <td>4.304307</td>\n",
       "    </tr>\n",
       "    <tr>\n",
       "      <th>2016-12-22</th>\n",
       "      <td>2.173250</td>\n",
       "      <td>1.883018</td>\n",
       "      <td>1.020538</td>\n",
       "      <td>4.280512</td>\n",
       "    </tr>\n",
       "    <tr>\n",
       "      <th>2016-12-23</th>\n",
       "      <td>2.177549</td>\n",
       "      <td>1.887345</td>\n",
       "      <td>1.018400</td>\n",
       "      <td>4.248394</td>\n",
       "    </tr>\n",
       "    <tr>\n",
       "      <th>2016-12-27</th>\n",
       "      <td>2.191378</td>\n",
       "      <td>1.896618</td>\n",
       "      <td>1.021027</td>\n",
       "      <td>4.308775</td>\n",
       "    </tr>\n",
       "    <tr>\n",
       "      <th>2016-12-28</th>\n",
       "      <td>2.182034</td>\n",
       "      <td>1.880545</td>\n",
       "      <td>1.015223</td>\n",
       "      <td>4.312853</td>\n",
       "    </tr>\n",
       "    <tr>\n",
       "      <th>2016-12-29</th>\n",
       "      <td>2.181473</td>\n",
       "      <td>1.883018</td>\n",
       "      <td>1.017728</td>\n",
       "      <td>4.273865</td>\n",
       "    </tr>\n",
       "    <tr>\n",
       "      <th>2016-12-30</th>\n",
       "      <td>2.164467</td>\n",
       "      <td>1.868181</td>\n",
       "      <td>1.014002</td>\n",
       "      <td>4.188516</td>\n",
       "    </tr>\n",
       "  </tbody>\n",
       "</table>\n",
       "<p>1258 rows × 4 columns</p>\n",
       "</div>"
      ],
      "text/plain": [
       "            NormReturn  NormReturn  NormReturn  NormReturn\n",
       "Date                                                      \n",
       "2012-01-03    1.000000    1.000000    1.000000    1.000000\n",
       "2012-01-04    1.005374    1.019324    0.995921    0.991510\n",
       "2012-01-05    1.016536    1.015566    0.991197    0.992068\n",
       "2012-01-06    1.027162    1.011809    0.979817    1.019997\n",
       "2012-01-09    1.025533    1.018250    0.974718    0.997375\n",
       "2012-01-10    1.029205    1.010735    0.973215    1.001732\n",
       "2012-01-11    1.027527    1.023618    0.978637    0.999274\n",
       "2012-01-12    1.024706    1.027912    0.969136    0.982684\n",
       "2012-01-13    1.020864    1.023081    0.961675    0.996593\n",
       "2012-01-17    1.032755    1.036232    0.966184    1.014690\n",
       "2012-01-18    1.043479    1.048846    0.971927    1.058147\n",
       "2012-01-19    1.040172    1.062265    0.968975    1.086131\n",
       "2012-01-20    1.022056    1.069243    1.011916    1.066469\n",
       "2012-01-23    1.039343    1.064412    1.019753    1.039435\n",
       "2012-01-24    1.022323    1.063607    1.030220    1.044518\n",
       "2012-01-25    1.086156    1.064412    1.029147    1.048986\n",
       "2012-01-26    1.081220    1.064412    1.025121    1.079797\n",
       "2012-01-27    1.087664    1.049919    1.022330    1.091270\n",
       "2012-01-30    1.101598    1.049919    1.033280    1.073284\n",
       "2012-01-31    1.110036    1.054482    1.033816    1.086075\n",
       "2012-02-01    1.109331    1.062802    1.033924    1.002402\n",
       "2012-02-02    1.106729    1.062802    1.028073    1.015025\n",
       "2012-02-03    1.117817    1.078368    1.039399    1.048316\n",
       "2012-02-06    1.128249    1.083736    1.034997    1.022957\n",
       "2012-02-07    1.140068    1.084273    1.037842    1.028822\n",
       "2012-02-08    1.159157    1.096618    1.039721    1.036027\n",
       "2012-02-09    1.199256    1.073537    1.040691    1.033235\n",
       "2012-02-10    1.199864    1.067901    1.036865    1.036363\n",
       "2012-02-13    1.222187    1.075148    1.037943    1.070156\n",
       "2012-02-14    1.238869    1.077295    1.035787    1.068536\n",
       "...                ...         ...         ...         ...\n",
       "2016-11-17    2.054767    1.857672    0.976188    4.224990\n",
       "2016-11-18    2.056823    1.865708    0.979792    4.245992\n",
       "2016-11-21    2.088032    1.857672    0.994331    4.356812\n",
       "2016-11-22    2.089340    1.847781    0.993720    4.386583\n",
       "2016-11-23    2.078688    1.836653    0.989505    4.357482\n",
       "2016-11-25    2.089154    1.860145    0.996591    4.358878\n",
       "2016-11-28    2.085042    1.849635    1.005022    4.282913\n",
       "2016-11-29    2.082986    1.844072    0.998974    4.259174\n",
       "2016-11-30    2.065420    1.843453    0.990971    4.192426\n",
       "2016-12-01    2.046171    1.820580    0.976310    4.153773\n",
       "2016-12-02    2.053833    1.808216    0.977532    4.135285\n",
       "2016-12-05    2.039069    1.825526    0.976432    4.241524\n",
       "2016-12-06    2.054767    1.813162    0.979548    4.271463\n",
       "2016-12-07    2.074951    1.851490    1.006671    4.303301\n",
       "2016-12-08    2.095321    1.851490    1.010153    4.286041\n",
       "2016-12-09    2.129520    1.858290    1.017239    4.293470\n",
       "2016-12-12    2.117373    1.865090    1.011008    4.245769\n",
       "2016-12-13    2.152693    1.891054    1.028052    4.325197\n",
       "2016-12-14    2.152693    1.883018    1.029396    4.294364\n",
       "2016-12-15    2.164467    1.893527    1.026402    4.250684\n",
       "2016-12-16    2.167270    1.891054    1.018522    4.232643\n",
       "2016-12-19    2.179791    1.900945    1.018217    4.278613\n",
       "2016-12-20    2.185585    1.889200    1.023837    4.307770\n",
       "2016-12-21    2.187640    1.880545    1.022187    4.304307\n",
       "2016-12-22    2.173250    1.883018    1.020538    4.280512\n",
       "2016-12-23    2.177549    1.887345    1.018400    4.248394\n",
       "2016-12-27    2.191378    1.896618    1.021027    4.308775\n",
       "2016-12-28    2.182034    1.880545    1.015223    4.312853\n",
       "2016-12-29    2.181473    1.883018    1.017728    4.273865\n",
       "2016-12-30    2.164467    1.868181    1.014002    4.188516\n",
       "\n",
       "[1258 rows x 4 columns]"
      ]
     },
     "execution_count": 82,
     "metadata": {},
     "output_type": "execute_result"
    }
   ],
   "source": [
    "normreturns.head()\n",
    "normreturns"
   ]
  },
  {
   "cell_type": "code",
   "execution_count": null,
   "metadata": {},
   "outputs": [],
   "source": []
  },
  {
   "cell_type": "code",
   "execution_count": 83,
   "metadata": {
    "collapsed": true
   },
   "outputs": [],
   "source": [
    "log_ret = np.log(stocks/stocks.shift(1))"
   ]
  },
  {
   "cell_type": "code",
   "execution_count": 84,
   "metadata": {},
   "outputs": [
    {
     "data": {
      "text/html": [
       "<div>\n",
       "<style>\n",
       "    .dataframe thead tr:only-child th {\n",
       "        text-align: right;\n",
       "    }\n",
       "\n",
       "    .dataframe thead th {\n",
       "        text-align: left;\n",
       "    }\n",
       "\n",
       "    .dataframe tbody tr th {\n",
       "        vertical-align: top;\n",
       "    }\n",
       "</style>\n",
       "<table border=\"1\" class=\"dataframe\">\n",
       "  <thead>\n",
       "    <tr style=\"text-align: right;\">\n",
       "      <th></th>\n",
       "      <th>Stock1</th>\n",
       "      <th>Stock2</th>\n",
       "      <th>Stock3</th>\n",
       "      <th>Stock4</th>\n",
       "    </tr>\n",
       "    <tr>\n",
       "      <th>Date</th>\n",
       "      <th></th>\n",
       "      <th></th>\n",
       "      <th></th>\n",
       "      <th></th>\n",
       "    </tr>\n",
       "  </thead>\n",
       "  <tbody>\n",
       "    <tr>\n",
       "      <th>2012-01-03</th>\n",
       "      <td>NaN</td>\n",
       "      <td>NaN</td>\n",
       "      <td>NaN</td>\n",
       "      <td>NaN</td>\n",
       "    </tr>\n",
       "    <tr>\n",
       "      <th>2012-01-04</th>\n",
       "      <td>0.001901</td>\n",
       "      <td>0.000183</td>\n",
       "      <td>-0.001191</td>\n",
       "      <td>-0.002936</td>\n",
       "    </tr>\n",
       "    <tr>\n",
       "      <th>2012-01-05</th>\n",
       "      <td>0.003916</td>\n",
       "      <td>-0.000035</td>\n",
       "      <td>-0.001385</td>\n",
       "      <td>0.000194</td>\n",
       "    </tr>\n",
       "    <tr>\n",
       "      <th>2012-01-06</th>\n",
       "      <td>0.003689</td>\n",
       "      <td>-0.000035</td>\n",
       "      <td>-0.003365</td>\n",
       "      <td>0.009560</td>\n",
       "    </tr>\n",
       "    <tr>\n",
       "      <th>2012-01-09</th>\n",
       "      <td>-0.000563</td>\n",
       "      <td>0.000061</td>\n",
       "      <td>-0.001520</td>\n",
       "      <td>-0.007723</td>\n",
       "    </tr>\n",
       "    <tr>\n",
       "      <th>2012-01-10</th>\n",
       "      <td>0.001268</td>\n",
       "      <td>-0.000071</td>\n",
       "      <td>-0.000450</td>\n",
       "      <td>0.001501</td>\n",
       "    </tr>\n",
       "    <tr>\n",
       "      <th>2012-01-11</th>\n",
       "      <td>-0.000579</td>\n",
       "      <td>0.000121</td>\n",
       "      <td>0.001619</td>\n",
       "      <td>-0.000846</td>\n",
       "    </tr>\n",
       "    <tr>\n",
       "      <th>2012-01-12</th>\n",
       "      <td>-0.000975</td>\n",
       "      <td>0.000040</td>\n",
       "      <td>-0.002843</td>\n",
       "      <td>-0.005765</td>\n",
       "    </tr>\n",
       "    <tr>\n",
       "      <th>2012-01-13</th>\n",
       "      <td>-0.001332</td>\n",
       "      <td>-0.000045</td>\n",
       "      <td>-0.002252</td>\n",
       "      <td>0.004840</td>\n",
       "    </tr>\n",
       "    <tr>\n",
       "      <th>2012-01-17</th>\n",
       "      <td>0.004108</td>\n",
       "      <td>0.000122</td>\n",
       "      <td>0.001363</td>\n",
       "      <td>0.006197</td>\n",
       "    </tr>\n",
       "    <tr>\n",
       "      <th>2012-01-18</th>\n",
       "      <td>0.003664</td>\n",
       "      <td>0.000115</td>\n",
       "      <td>0.001727</td>\n",
       "      <td>0.014441</td>\n",
       "    </tr>\n",
       "    <tr>\n",
       "      <th>2012-01-19</th>\n",
       "      <td>-0.001126</td>\n",
       "      <td>0.000121</td>\n",
       "      <td>-0.000886</td>\n",
       "      <td>0.008989</td>\n",
       "    </tr>\n",
       "    <tr>\n",
       "      <th>2012-01-20</th>\n",
       "      <td>-0.006232</td>\n",
       "      <td>0.000062</td>\n",
       "      <td>0.012636</td>\n",
       "      <td>-0.006291</td>\n",
       "    </tr>\n",
       "    <tr>\n",
       "      <th>2012-01-23</th>\n",
       "      <td>0.005949</td>\n",
       "      <td>-0.000043</td>\n",
       "      <td>0.002248</td>\n",
       "      <td>-0.008842</td>\n",
       "    </tr>\n",
       "    <tr>\n",
       "      <th>2012-01-24</th>\n",
       "      <td>-0.005857</td>\n",
       "      <td>-0.000007</td>\n",
       "      <td>0.002976</td>\n",
       "      <td>0.001680</td>\n",
       "    </tr>\n",
       "    <tr>\n",
       "      <th>2012-01-25</th>\n",
       "      <td>0.021484</td>\n",
       "      <td>0.000007</td>\n",
       "      <td>-0.000304</td>\n",
       "      <td>0.001470</td>\n",
       "    </tr>\n",
       "    <tr>\n",
       "      <th>2012-01-26</th>\n",
       "      <td>-0.001616</td>\n",
       "      <td>0.000000</td>\n",
       "      <td>-0.001142</td>\n",
       "      <td>0.009969</td>\n",
       "    </tr>\n",
       "    <tr>\n",
       "      <th>2012-01-27</th>\n",
       "      <td>0.002108</td>\n",
       "      <td>-0.000131</td>\n",
       "      <td>-0.000794</td>\n",
       "      <td>0.003639</td>\n",
       "    </tr>\n",
       "    <tr>\n",
       "      <th>2012-01-30</th>\n",
       "      <td>0.004515</td>\n",
       "      <td>0.000000</td>\n",
       "      <td>0.003105</td>\n",
       "      <td>-0.005723</td>\n",
       "    </tr>\n",
       "    <tr>\n",
       "      <th>2012-01-31</th>\n",
       "      <td>0.002707</td>\n",
       "      <td>0.000041</td>\n",
       "      <td>0.000151</td>\n",
       "      <td>0.004080</td>\n",
       "    </tr>\n",
       "    <tr>\n",
       "      <th>2012-02-01</th>\n",
       "      <td>-0.000225</td>\n",
       "      <td>0.000075</td>\n",
       "      <td>0.000030</td>\n",
       "      <td>-0.027607</td>\n",
       "    </tr>\n",
       "    <tr>\n",
       "      <th>2012-02-02</th>\n",
       "      <td>-0.000833</td>\n",
       "      <td>0.000000</td>\n",
       "      <td>-0.001654</td>\n",
       "      <td>0.004309</td>\n",
       "    </tr>\n",
       "    <tr>\n",
       "      <th>2012-02-03</th>\n",
       "      <td>0.003536</td>\n",
       "      <td>0.000139</td>\n",
       "      <td>0.003193</td>\n",
       "      <td>0.011113</td>\n",
       "    </tr>\n",
       "    <tr>\n",
       "      <th>2012-02-06</th>\n",
       "      <td>0.003295</td>\n",
       "      <td>0.000047</td>\n",
       "      <td>-0.001237</td>\n",
       "      <td>-0.008432</td>\n",
       "    </tr>\n",
       "    <tr>\n",
       "      <th>2012-02-07</th>\n",
       "      <td>0.003696</td>\n",
       "      <td>0.000005</td>\n",
       "      <td>0.000800</td>\n",
       "      <td>0.001969</td>\n",
       "    </tr>\n",
       "    <tr>\n",
       "      <th>2012-02-08</th>\n",
       "      <td>0.005890</td>\n",
       "      <td>0.000108</td>\n",
       "      <td>0.000527</td>\n",
       "      <td>0.002403</td>\n",
       "    </tr>\n",
       "    <tr>\n",
       "      <th>2012-02-09</th>\n",
       "      <td>0.012063</td>\n",
       "      <td>-0.000203</td>\n",
       "      <td>0.000272</td>\n",
       "      <td>-0.000930</td>\n",
       "    </tr>\n",
       "    <tr>\n",
       "      <th>2012-02-10</th>\n",
       "      <td>0.000180</td>\n",
       "      <td>-0.000050</td>\n",
       "      <td>-0.001073</td>\n",
       "      <td>0.001041</td>\n",
       "    </tr>\n",
       "    <tr>\n",
       "      <th>2012-02-13</th>\n",
       "      <td>0.006539</td>\n",
       "      <td>0.000065</td>\n",
       "      <td>0.000303</td>\n",
       "      <td>0.011049</td>\n",
       "    </tr>\n",
       "    <tr>\n",
       "      <th>2012-02-14</th>\n",
       "      <td>0.004809</td>\n",
       "      <td>0.000019</td>\n",
       "      <td>-0.000606</td>\n",
       "      <td>-0.000522</td>\n",
       "    </tr>\n",
       "    <tr>\n",
       "      <th>...</th>\n",
       "      <td>...</td>\n",
       "      <td>...</td>\n",
       "      <td>...</td>\n",
       "      <td>...</td>\n",
       "    </tr>\n",
       "    <tr>\n",
       "      <th>2016-11-17</th>\n",
       "      <td>-0.000129</td>\n",
       "      <td>-0.000471</td>\n",
       "      <td>0.000931</td>\n",
       "      <td>0.004541</td>\n",
       "    </tr>\n",
       "    <tr>\n",
       "      <th>2016-11-18</th>\n",
       "      <td>0.000355</td>\n",
       "      <td>0.000041</td>\n",
       "      <td>0.001074</td>\n",
       "      <td>0.001708</td>\n",
       "    </tr>\n",
       "    <tr>\n",
       "      <th>2016-11-21</th>\n",
       "      <td>0.005342</td>\n",
       "      <td>-0.000041</td>\n",
       "      <td>0.004292</td>\n",
       "      <td>0.008872</td>\n",
       "    </tr>\n",
       "    <tr>\n",
       "      <th>2016-11-22</th>\n",
       "      <td>0.000222</td>\n",
       "      <td>-0.000051</td>\n",
       "      <td>-0.000179</td>\n",
       "      <td>0.002345</td>\n",
       "    </tr>\n",
       "    <tr>\n",
       "      <th>2016-11-23</th>\n",
       "      <td>-0.001813</td>\n",
       "      <td>-0.000058</td>\n",
       "      <td>-0.001239</td>\n",
       "      <td>-0.002292</td>\n",
       "    </tr>\n",
       "    <tr>\n",
       "      <th>2016-11-25</th>\n",
       "      <td>0.001781</td>\n",
       "      <td>0.000121</td>\n",
       "      <td>0.002079</td>\n",
       "      <td>0.000110</td>\n",
       "    </tr>\n",
       "    <tr>\n",
       "      <th>2016-11-28</th>\n",
       "      <td>-0.000699</td>\n",
       "      <td>-0.000054</td>\n",
       "      <td>0.002455</td>\n",
       "      <td>-0.006054</td>\n",
       "    </tr>\n",
       "    <tr>\n",
       "      <th>2016-11-29</th>\n",
       "      <td>-0.000350</td>\n",
       "      <td>-0.000029</td>\n",
       "      <td>-0.001759</td>\n",
       "      <td>-0.001914</td>\n",
       "    </tr>\n",
       "    <tr>\n",
       "      <th>2016-11-30</th>\n",
       "      <td>-0.003004</td>\n",
       "      <td>-0.000003</td>\n",
       "      <td>-0.002344</td>\n",
       "      <td>-0.005439</td>\n",
       "    </tr>\n",
       "    <tr>\n",
       "      <th>2016-12-01</th>\n",
       "      <td>-0.003321</td>\n",
       "      <td>-0.000119</td>\n",
       "      <td>-0.004343</td>\n",
       "      <td>-0.003190</td>\n",
       "    </tr>\n",
       "    <tr>\n",
       "      <th>2016-12-02</th>\n",
       "      <td>0.001326</td>\n",
       "      <td>-0.000065</td>\n",
       "      <td>0.000364</td>\n",
       "      <td>-0.001536</td>\n",
       "    </tr>\n",
       "    <tr>\n",
       "      <th>2016-12-05</th>\n",
       "      <td>-0.002559</td>\n",
       "      <td>0.000091</td>\n",
       "      <td>-0.000328</td>\n",
       "      <td>0.008735</td>\n",
       "    </tr>\n",
       "    <tr>\n",
       "      <th>2016-12-06</th>\n",
       "      <td>0.002720</td>\n",
       "      <td>-0.000065</td>\n",
       "      <td>0.000928</td>\n",
       "      <td>0.002422</td>\n",
       "    </tr>\n",
       "    <tr>\n",
       "      <th>2016-12-07</th>\n",
       "      <td>0.003467</td>\n",
       "      <td>0.000200</td>\n",
       "      <td>0.007959</td>\n",
       "      <td>0.002557</td>\n",
       "    </tr>\n",
       "    <tr>\n",
       "      <th>2016-12-08</th>\n",
       "      <td>0.003465</td>\n",
       "      <td>0.000000</td>\n",
       "      <td>0.001006</td>\n",
       "      <td>-0.001384</td>\n",
       "    </tr>\n",
       "    <tr>\n",
       "      <th>2016-12-09</th>\n",
       "      <td>0.005743</td>\n",
       "      <td>0.000035</td>\n",
       "      <td>0.002037</td>\n",
       "      <td>0.000596</td>\n",
       "    </tr>\n",
       "    <tr>\n",
       "      <th>2016-12-12</th>\n",
       "      <td>-0.002029</td>\n",
       "      <td>0.000035</td>\n",
       "      <td>-0.001790</td>\n",
       "      <td>-0.003847</td>\n",
       "    </tr>\n",
       "    <tr>\n",
       "      <th>2016-12-13</th>\n",
       "      <td>0.005868</td>\n",
       "      <td>0.000132</td>\n",
       "      <td>0.004871</td>\n",
       "      <td>0.006382</td>\n",
       "    </tr>\n",
       "    <tr>\n",
       "      <th>2016-12-14</th>\n",
       "      <td>0.000000</td>\n",
       "      <td>-0.000041</td>\n",
       "      <td>0.000381</td>\n",
       "      <td>-0.002464</td>\n",
       "    </tr>\n",
       "    <tr>\n",
       "      <th>2016-12-15</th>\n",
       "      <td>0.001935</td>\n",
       "      <td>0.000053</td>\n",
       "      <td>-0.000849</td>\n",
       "      <td>-0.003520</td>\n",
       "    </tr>\n",
       "    <tr>\n",
       "      <th>2016-12-16</th>\n",
       "      <td>0.000459</td>\n",
       "      <td>-0.000012</td>\n",
       "      <td>-0.002246</td>\n",
       "      <td>-0.001465</td>\n",
       "    </tr>\n",
       "    <tr>\n",
       "      <th>2016-12-19</th>\n",
       "      <td>0.002043</td>\n",
       "      <td>0.000050</td>\n",
       "      <td>-0.000087</td>\n",
       "      <td>0.003720</td>\n",
       "    </tr>\n",
       "    <tr>\n",
       "      <th>2016-12-20</th>\n",
       "      <td>0.000941</td>\n",
       "      <td>-0.000059</td>\n",
       "      <td>0.001604</td>\n",
       "      <td>0.002339</td>\n",
       "    </tr>\n",
       "    <tr>\n",
       "      <th>2016-12-21</th>\n",
       "      <td>0.000333</td>\n",
       "      <td>-0.000044</td>\n",
       "      <td>-0.000470</td>\n",
       "      <td>-0.000277</td>\n",
       "    </tr>\n",
       "    <tr>\n",
       "      <th>2016-12-22</th>\n",
       "      <td>-0.002341</td>\n",
       "      <td>0.000013</td>\n",
       "      <td>-0.000471</td>\n",
       "      <td>-0.001909</td>\n",
       "    </tr>\n",
       "    <tr>\n",
       "      <th>2016-12-23</th>\n",
       "      <td>0.000701</td>\n",
       "      <td>0.000022</td>\n",
       "      <td>-0.000611</td>\n",
       "      <td>-0.002593</td>\n",
       "    </tr>\n",
       "    <tr>\n",
       "      <th>2016-12-27</th>\n",
       "      <td>0.002246</td>\n",
       "      <td>0.000047</td>\n",
       "      <td>0.000751</td>\n",
       "      <td>0.004860</td>\n",
       "    </tr>\n",
       "    <tr>\n",
       "      <th>2016-12-28</th>\n",
       "      <td>-0.001516</td>\n",
       "      <td>-0.000081</td>\n",
       "      <td>-0.001661</td>\n",
       "      <td>0.000326</td>\n",
       "    </tr>\n",
       "    <tr>\n",
       "      <th>2016-12-29</th>\n",
       "      <td>-0.000091</td>\n",
       "      <td>0.000013</td>\n",
       "      <td>0.000718</td>\n",
       "      <td>-0.003127</td>\n",
       "    </tr>\n",
       "    <tr>\n",
       "      <th>2016-12-30</th>\n",
       "      <td>-0.002776</td>\n",
       "      <td>-0.000075</td>\n",
       "      <td>-0.001069</td>\n",
       "      <td>-0.006946</td>\n",
       "    </tr>\n",
       "  </tbody>\n",
       "</table>\n",
       "<p>1258 rows × 4 columns</p>\n",
       "</div>"
      ],
      "text/plain": [
       "              Stock1    Stock2    Stock3    Stock4\n",
       "Date                                              \n",
       "2012-01-03       NaN       NaN       NaN       NaN\n",
       "2012-01-04  0.001901  0.000183 -0.001191 -0.002936\n",
       "2012-01-05  0.003916 -0.000035 -0.001385  0.000194\n",
       "2012-01-06  0.003689 -0.000035 -0.003365  0.009560\n",
       "2012-01-09 -0.000563  0.000061 -0.001520 -0.007723\n",
       "2012-01-10  0.001268 -0.000071 -0.000450  0.001501\n",
       "2012-01-11 -0.000579  0.000121  0.001619 -0.000846\n",
       "2012-01-12 -0.000975  0.000040 -0.002843 -0.005765\n",
       "2012-01-13 -0.001332 -0.000045 -0.002252  0.004840\n",
       "2012-01-17  0.004108  0.000122  0.001363  0.006197\n",
       "2012-01-18  0.003664  0.000115  0.001727  0.014441\n",
       "2012-01-19 -0.001126  0.000121 -0.000886  0.008989\n",
       "2012-01-20 -0.006232  0.000062  0.012636 -0.006291\n",
       "2012-01-23  0.005949 -0.000043  0.002248 -0.008842\n",
       "2012-01-24 -0.005857 -0.000007  0.002976  0.001680\n",
       "2012-01-25  0.021484  0.000007 -0.000304  0.001470\n",
       "2012-01-26 -0.001616  0.000000 -0.001142  0.009969\n",
       "2012-01-27  0.002108 -0.000131 -0.000794  0.003639\n",
       "2012-01-30  0.004515  0.000000  0.003105 -0.005723\n",
       "2012-01-31  0.002707  0.000041  0.000151  0.004080\n",
       "2012-02-01 -0.000225  0.000075  0.000030 -0.027607\n",
       "2012-02-02 -0.000833  0.000000 -0.001654  0.004309\n",
       "2012-02-03  0.003536  0.000139  0.003193  0.011113\n",
       "2012-02-06  0.003295  0.000047 -0.001237 -0.008432\n",
       "2012-02-07  0.003696  0.000005  0.000800  0.001969\n",
       "2012-02-08  0.005890  0.000108  0.000527  0.002403\n",
       "2012-02-09  0.012063 -0.000203  0.000272 -0.000930\n",
       "2012-02-10  0.000180 -0.000050 -0.001073  0.001041\n",
       "2012-02-13  0.006539  0.000065  0.000303  0.011049\n",
       "2012-02-14  0.004809  0.000019 -0.000606 -0.000522\n",
       "...              ...       ...       ...       ...\n",
       "2016-11-17 -0.000129 -0.000471  0.000931  0.004541\n",
       "2016-11-18  0.000355  0.000041  0.001074  0.001708\n",
       "2016-11-21  0.005342 -0.000041  0.004292  0.008872\n",
       "2016-11-22  0.000222 -0.000051 -0.000179  0.002345\n",
       "2016-11-23 -0.001813 -0.000058 -0.001239 -0.002292\n",
       "2016-11-25  0.001781  0.000121  0.002079  0.000110\n",
       "2016-11-28 -0.000699 -0.000054  0.002455 -0.006054\n",
       "2016-11-29 -0.000350 -0.000029 -0.001759 -0.001914\n",
       "2016-11-30 -0.003004 -0.000003 -0.002344 -0.005439\n",
       "2016-12-01 -0.003321 -0.000119 -0.004343 -0.003190\n",
       "2016-12-02  0.001326 -0.000065  0.000364 -0.001536\n",
       "2016-12-05 -0.002559  0.000091 -0.000328  0.008735\n",
       "2016-12-06  0.002720 -0.000065  0.000928  0.002422\n",
       "2016-12-07  0.003467  0.000200  0.007959  0.002557\n",
       "2016-12-08  0.003465  0.000000  0.001006 -0.001384\n",
       "2016-12-09  0.005743  0.000035  0.002037  0.000596\n",
       "2016-12-12 -0.002029  0.000035 -0.001790 -0.003847\n",
       "2016-12-13  0.005868  0.000132  0.004871  0.006382\n",
       "2016-12-14  0.000000 -0.000041  0.000381 -0.002464\n",
       "2016-12-15  0.001935  0.000053 -0.000849 -0.003520\n",
       "2016-12-16  0.000459 -0.000012 -0.002246 -0.001465\n",
       "2016-12-19  0.002043  0.000050 -0.000087  0.003720\n",
       "2016-12-20  0.000941 -0.000059  0.001604  0.002339\n",
       "2016-12-21  0.000333 -0.000044 -0.000470 -0.000277\n",
       "2016-12-22 -0.002341  0.000013 -0.000471 -0.001909\n",
       "2016-12-23  0.000701  0.000022 -0.000611 -0.002593\n",
       "2016-12-27  0.002246  0.000047  0.000751  0.004860\n",
       "2016-12-28 -0.001516 -0.000081 -0.001661  0.000326\n",
       "2016-12-29 -0.000091  0.000013  0.000718 -0.003127\n",
       "2016-12-30 -0.002776 -0.000075 -0.001069 -0.006946\n",
       "\n",
       "[1258 rows x 4 columns]"
      ]
     },
     "execution_count": 84,
     "metadata": {},
     "output_type": "execute_result"
    }
   ],
   "source": [
    "log_ret*weights"
   ]
  },
  {
   "cell_type": "code",
   "execution_count": 85,
   "metadata": {},
   "outputs": [
    {
     "data": {
      "text/plain": [
       "0.15579987907814905"
      ]
     },
     "execution_count": 85,
     "metadata": {},
     "output_type": "execute_result"
    }
   ],
   "source": [
    "exp_ret = np.sum(log_ret.mean()*weights)*252\n",
    "exp_ret"
   ]
  },
  {
   "cell_type": "code",
   "execution_count": 86,
   "metadata": {
    "collapsed": true
   },
   "outputs": [],
   "source": [
    "exp_vol = np.sqrt( np.dot( weights.T, np.dot(log_ret.cov() * 252, weights)))"
   ]
  },
  {
   "cell_type": "code",
   "execution_count": 87,
   "metadata": {},
   "outputs": [
    {
     "data": {
      "text/plain": [
       "0.18376874265583956"
      ]
     },
     "execution_count": 87,
     "metadata": {},
     "output_type": "execute_result"
    }
   ],
   "source": [
    "exp_vol"
   ]
  },
  {
   "cell_type": "code",
   "execution_count": 88,
   "metadata": {
    "collapsed": true
   },
   "outputs": [],
   "source": [
    "exp_ret_list = []\n",
    "exp_vol_list = []\n",
    "w1_list = []\n",
    "w2_list = []\n",
    "w3_list = []\n",
    "w4_list = []\n",
    "SR_list = []\n",
    "\n",
    "num_sim = 10000\n",
    "#for w1 in np.arange(0,1,0.1):\n",
    " #   for w2 in np.arange(0,1 - w1,0.1):\n",
    "  #      for w3 in np.arange(0,1 - w2 - w3,0.1):\n",
    "   #         for w4 in np.arange(0,1,0.1):\n",
    "num_sim_vec = np.arange(1,num_sim,1)   \n",
    "    \n",
    "for ind in num_sim_vec:\n",
    "    weights = np.array(np.random.random(4))\n",
    "    weights = weights/sum(weights)\n",
    "    exp_ret = np.sum(log_ret.mean()*weights*252)\n",
    "    exp_vol = np.sqrt( np.dot( weights.T, np.dot(log_ret.cov() * 252, weights)))\n",
    "    SR = exp_ret/exp_vol\n",
    "    w1_list.append(weights[0])\n",
    "    w2_list.append(weights[1])\n",
    "    w3_list.append(weights[2])\n",
    "    w4_list.append(weights[3])\n",
    "    exp_ret_list.append(exp_ret)\n",
    "    exp_vol_list.append(exp_vol)\n",
    "    SR_list.append(SR)          "
   ]
  },
  {
   "cell_type": "code",
   "execution_count": 89,
   "metadata": {},
   "outputs": [
    {
     "data": {
      "text/plain": [
       "1.0294578005633588"
      ]
     },
     "execution_count": 89,
     "metadata": {},
     "output_type": "execute_result"
    }
   ],
   "source": [
    "max(SR_list[1:])"
   ]
  },
  {
   "cell_type": "code",
   "execution_count": 90,
   "metadata": {},
   "outputs": [
    {
     "name": "stdout",
     "output_type": "stream",
     "text": [
      "6389\n"
     ]
    }
   ],
   "source": [
    "i = SR_list.index(max(SR_list[1:]))\n",
    "print(i)"
   ]
  },
  {
   "cell_type": "code",
   "execution_count": 91,
   "metadata": {},
   "outputs": [
    {
     "data": {
      "text/plain": [
       "[0.23136104638250982,\n",
       " 0.21906222079741472,\n",
       " 0.0006337411514834542,\n",
       " 0.54894299166859195]"
      ]
     },
     "execution_count": 91,
     "metadata": {},
     "output_type": "execute_result"
    }
   ],
   "source": [
    "w1_list[i], w2_list[i], w3_list[i], w4_list[i]\n",
    "\n",
    "w_max = [w1_list[i], w2_list[i], w3_list[i], w4_list[i]]\n",
    "w_max"
   ]
  },
  {
   "cell_type": "code",
   "execution_count": 92,
   "metadata": {},
   "outputs": [
    {
     "data": {
      "image/png": "[encoded data removed]",
      "text/plain": [
       "<matplotlib.figure.Figure at 0x1a18011dd8>"
      ]
     },
     "metadata": {},
     "output_type": "display_data"
    }
   ],
   "source": [
    "plt.figure(figsize =(12,8))\n",
    "plt.scatter(exp_vol_list, exp_ret_list, c=SR_list, cmap='inferno')\n",
    "plt.colorbar(label='SR')\n",
    "plt.xlabel('Volatility')\n",
    "plt.ylabel('Return')\n",
    "plt.scatter(exp_vol_list[i], exp_ret_list[i], c='red', s=50, edgecolors = 'black')\n",
    "plt.show()"
   ]
  },
  {
   "cell_type": "code",
   "execution_count": 93,
   "metadata": {
    "collapsed": true
   },
   "outputs": [],
   "source": [
    "from scipy.optimize import minimize"
   ]
  },
  {
   "cell_type": "code",
   "execution_count": null,
   "metadata": {},
   "outputs": [],
   "source": []
  },
  {
   "cell_type": "code",
   "execution_count": 94,
   "metadata": {
    "collapsed": true
   },
   "outputs": [],
   "source": [
    "def get_sharp_ratio(weights):\n",
    "    weights = np.array(weights)\n",
    "    exp_ret = np.sum(log_ret.mean()*weights*252)\n",
    "    exp_vol = np.sqrt( np.dot( weights.T, np.dot(log_ret.cov() * 252, weights)))\n",
    "    SR = exp_ret/exp_vol\n",
    "    return SR"
   ]
  },
  {
   "cell_type": "code",
   "execution_count": 95,
   "metadata": {
    "collapsed": true
   },
   "outputs": [],
   "source": [
    "def min_SR(weights):\n",
    "    return get_sharp_ratio(weights)*(-1)"
   ]
  },
  {
   "cell_type": "code",
   "execution_count": 96,
   "metadata": {},
   "outputs": [
    {
     "data": {
      "text/plain": [
       "-0.59222660916432301"
      ]
     },
     "execution_count": 96,
     "metadata": {},
     "output_type": "execute_result"
    }
   ],
   "source": [
    "min_SR([1,0,0,0])"
   ]
  },
  {
   "cell_type": "code",
   "execution_count": 97,
   "metadata": {},
   "outputs": [
    {
     "data": {
      "text/plain": [
       "1.0"
      ]
     },
     "execution_count": 97,
     "metadata": {},
     "output_type": "execute_result"
    }
   ],
   "source": [
    "weights_0 = [0.25, 0.25, 0.25, 0.25]\n",
    "sum(weights_0)"
   ]
  },
  {
   "cell_type": "code",
   "execution_count": 98,
   "metadata": {},
   "outputs": [
    {
     "data": {
      "text/plain": [
       "      fun: -1.1194046846962202\n",
       " hess_inv: array([[ 1.24437566, -0.19559749, -0.09122213, -0.04008723],\n",
       "       [-0.19559749,  1.81542907, -0.49668052, -0.15219354],\n",
       "       [-0.09122213, -0.49668052,  1.67295563,  0.11530067],\n",
       "       [-0.04008723, -0.15219354,  0.11530067,  0.93348191]])\n",
       "      jac: array([  7.45058060e-08,  -3.12924385e-07,  -7.74860382e-07,\n",
       "        -5.81145287e-07])\n",
       "  message: 'Optimization terminated successfully.'\n",
       "     nfev: 54\n",
       "      nit: 8\n",
       "     njev: 9\n",
       "   status: 0\n",
       "  success: True\n",
       "        x: array([ 0.40101299,  0.43366548, -0.66110944,  0.69293569])"
      ]
     },
     "execution_count": 98,
     "metadata": {},
     "output_type": "execute_result"
    }
   ],
   "source": [
    "minimize(min_SR, weights_0)"
   ]
  },
  {
   "cell_type": "code",
   "execution_count": 99,
   "metadata": {
    "collapsed": true
   },
   "outputs": [],
   "source": [
    "minimize?"
   ]
  },
  {
   "cell_type": "code",
   "execution_count": 100,
   "metadata": {},
   "outputs": [
    {
     "data": {
      "text/plain": [
       "1.0"
      ]
     },
     "execution_count": 100,
     "metadata": {},
     "output_type": "execute_result"
    }
   ],
   "source": [
    "sum(weights_0)"
   ]
  },
  {
   "cell_type": "code",
   "execution_count": 101,
   "metadata": {},
   "outputs": [
    {
     "data": {
      "text/plain": [
       "{'fun': <function __main__.<lambda>>, 'type': 'eq'}"
      ]
     },
     "execution_count": 101,
     "metadata": {},
     "output_type": "execute_result"
    }
   ],
   "source": [
    "import numpy as np\n",
    "\n",
    "d = {\"type\":\"eq\", \"fun\": lambda x: (np.sum(x)-1)}\n",
    "d"
   ]
  },
  {
   "cell_type": "code",
   "execution_count": 102,
   "metadata": {
    "collapsed": true
   },
   "outputs": [],
   "source": [
    "bounds = ((0,1), (0,1), (0,1), (0,1))"
   ]
  },
  {
   "cell_type": "code",
   "execution_count": 103,
   "metadata": {},
   "outputs": [
    {
     "data": {
      "text/plain": [
       "     fun: -1.0307168703371898\n",
       "     jac: array([  5.64008951e-05,   4.18126583e-05,   3.39921698e-01,\n",
       "        -4.44799662e-05])\n",
       " message: 'Optimization terminated successfully.'\n",
       "    nfev: 42\n",
       "     nit: 7\n",
       "    njev: 7\n",
       "  status: 0\n",
       " success: True\n",
       "       x: array([ 0.26628976,  0.20418981,  0.        ,  0.52952043])"
      ]
     },
     "execution_count": 103,
     "metadata": {},
     "output_type": "execute_result"
    }
   ],
   "source": [
    "minimize(min_SR, weights_0, constraints=d, bounds=bounds)"
   ]
  },
  {
   "cell_type": "code",
   "execution_count": 106,
   "metadata": {},
   "outputs": [],
   "source": [
    "Results2 = minimize(min_SR, weights_0, constraints=d,bounds=bounds)"
   ]
  },
  {
   "cell_type": "code",
   "execution_count": 107,
   "metadata": {},
   "outputs": [
    {
     "data": {
      "text/plain": [
       "array([ 0.26628976,  0.20418981,  0.        ,  0.52952043])"
      ]
     },
     "execution_count": 107,
     "metadata": {},
     "output_type": "execute_result"
    }
   ],
   "source": [
    "Results2.x"
   ]
  },
  {
   "cell_type": "code",
   "execution_count": 109,
   "metadata": {},
   "outputs": [
    {
     "data": {
      "text/plain": [
       "1.0307168703371898"
      ]
     },
     "execution_count": 109,
     "metadata": {},
     "output_type": "execute_result"
    }
   ],
   "source": [
    "get_sharp_ratio(Results2.x)"
   ]
  },
  {
   "cell_type": "markdown",
   "metadata": {},
   "source": [
    "# Efficiency Frontier"
   ]
  },
  {
   "cell_type": "code",
   "execution_count": 112,
   "metadata": {
    "collapsed": true
   },
   "outputs": [],
   "source": [
    "front_vol = np.linspace(0.15,0.3, 50)"
   ]
  },
  {
   "cell_type": "code",
   "execution_count": 113,
   "metadata": {},
   "outputs": [
    {
     "data": {
      "text/plain": [
       "array([ 0.15      ,  0.15306122,  0.15612245,  0.15918367,  0.1622449 ,\n",
       "        0.16530612,  0.16836735,  0.17142857,  0.1744898 ,  0.17755102,\n",
       "        0.18061224,  0.18367347,  0.18673469,  0.18979592,  0.19285714,\n",
       "        0.19591837,  0.19897959,  0.20204082,  0.20510204,  0.20816327,\n",
       "        0.21122449,  0.21428571,  0.21734694,  0.22040816,  0.22346939,\n",
       "        0.22653061,  0.22959184,  0.23265306,  0.23571429,  0.23877551,\n",
       "        0.24183673,  0.24489796,  0.24795918,  0.25102041,  0.25408163,\n",
       "        0.25714286,  0.26020408,  0.26326531,  0.26632653,  0.26938776,\n",
       "        0.27244898,  0.2755102 ,  0.27857143,  0.28163265,  0.28469388,\n",
       "        0.2877551 ,  0.29081633,  0.29387755,  0.29693878,  0.3       ])"
      ]
     },
     "execution_count": 113,
     "metadata": {},
     "output_type": "execute_result"
    }
   ],
   "source": [
    "front_vol"
   ]
  },
  {
   "cell_type": "code",
   "execution_count": 114,
   "metadata": {
    "collapsed": true
   },
   "outputs": [],
   "source": [
    "def get_ret_vol_SR(weights):\n",
    "    weights = np.array(weights)\n",
    "    ret = np.sum(log_ret.mean()*weights*252)\n",
    "    vol = np.sqrt( np.dot( weights.T, np.dot(log_ret.cov() * 252, weights)))\n",
    "    SR = ret/vol\n",
    "    return ret, vol, SR"
   ]
  },
  {
   "cell_type": "code",
   "execution_count": 128,
   "metadata": {
    "collapsed": true
   },
   "outputs": [],
   "source": [
    "def max_ret(weights):\n",
    "    return get_ret_vol_SR(weights)[0]*(-1)\n",
    "\n",
    "def min_vol(weights):\n",
    "    return get_ret_vol_SR(weights)[1]"
   ]
  },
  {
   "cell_type": "code",
   "execution_count": 125,
   "metadata": {
    "collapsed": true
   },
   "outputs": [],
   "source": [
    "front_ret = []\n",
    "\n",
    "\n",
    "bounds = ((0,1), (0,1), (0,1), (0,1))\n",
    "\n",
    "for vol in front_vol:\n",
    "    cons = ({\"type\":\"eq\", \"fun\": lambda x: (np.sum(x)-1)}, \n",
    "       {\"type\":\"eq\", \"fun\": lambda x: get_ret_vol_SR (x)[0] - ret})\n",
    "    \n",
    "    result = minimize(max_ret, weights_0, bounds=bounds, constraints=cons)\n",
    "    \n",
    "    front_ret.append(result['fun']*(-1))\n",
    "    \n",
    "   # minimize(min_SR, weights_0, constraints=d, bounds=bounds)"
   ]
  },
  {
   "cell_type": "code",
   "execution_count": 126,
   "metadata": {},
   "outputs": [
    {
     "data": {
      "text/plain": [
       "[0.0882226763729923,\n",
       " 0.0882226315488492,\n",
       " 0.08822258061887074,\n",
       " 0.08822253791544077,\n",
       " 0.11655239333247935,\n",
       " 0.13008782535471913,\n",
       " 0.1403821855881974,\n",
       " 0.14910137719118904,\n",
       " 0.1568497828338183,\n",
       " 0.16392583977236605,\n",
       " 0.17050084122208653,\n",
       " 0.1766897904194998,\n",
       " 0.18256681100371885,\n",
       " 0.18818773958352075,\n",
       " 0.19359332241064395,\n",
       " 0.19867890699839502,\n",
       " 0.20315571734807375,\n",
       " 0.20719743867096063,\n",
       " 0.21092393662494463,\n",
       " 0.21440925457819865,\n",
       " 0.2177026704522797,\n",
       " 0.22083970291074945,\n",
       " 0.22384596079480443,\n",
       " 0.22674110927935945,\n",
       " 0.22954053344650818,\n",
       " 0.23225651089415514,\n",
       " 0.23489902130116935,\n",
       " 0.23747630608404657,\n",
       " 0.23999525201481942,\n",
       " 0.2424616836721499,\n",
       " 0.24488057554952022,\n",
       " 0.24725621778148968,\n",
       " 0.24959233107473988,\n",
       " 0.2518921701468141,\n",
       " 0.25415859901247895,\n",
       " 0.25639415241784513,\n",
       " 0.258595201404863,\n",
       " 0.26073491668491794,\n",
       " 0.2628160560614399,\n",
       " 0.26484498686371255,\n",
       " 0.26682701433581446,\n",
       " 0.2687666655186078,\n",
       " 0.27066781910678916,\n",
       " 0.27253383253499125,\n",
       " 0.27436763167789735,\n",
       " 0.27617178015912486,\n",
       " 0.27794854863990326,\n",
       " 0.279699941374862,\n",
       " 0.281427757521357,\n",
       " 0.28313361387966957]"
      ]
     },
     "execution_count": 126,
     "metadata": {},
     "output_type": "execute_result"
    }
   ],
   "source": [
    "front_ret"
   ]
  },
  {
   "cell_type": "code",
   "execution_count": 127,
   "metadata": {},
   "outputs": [
    {
     "data": {
      "image/png": "[encoded data removed]",
      "text/plain": [
       "<matplotlib.figure.Figure at 0x1a18e89f98>"
      ]
     },
     "metadata": {},
     "output_type": "display_data"
    }
   ],
   "source": [
    "plt.figure(figsize =(12,8))\n",
    "plt.scatter(exp_vol_list, exp_ret_list, c=SR_list, cmap='inferno')\n",
    "plt.colorbar(label='SR')\n",
    "plt.xlabel('Volatility')\n",
    "plt.ylabel('Return')\n",
    "plt.scatter(exp_vol_list[i], exp_ret_list[i], c='red', s=50, edgecolors = 'black')\n",
    "plt.plot(front_vol, front_ret)\n",
    "plt.show()"
   ]
  },
  {
   "cell_type": "code",
   "execution_count": 137,
   "metadata": {
    "collapsed": true
   },
   "outputs": [],
   "source": [
    "front_vol2 = []\n",
    "\n",
    "front_ret2 = np.linspace(0.05,0.28, 50)\n",
    "\n",
    "bounds = ((0,1), (0,1), (0,1), (0,1))\n",
    "\n",
    "for ret in front_ret2:\n",
    "    cons = ({\"type\":\"eq\", \"fun\": lambda x: (np.sum(x)-1)}, \n",
    "       {\"type\":\"eq\", \"fun\": lambda x: get_ret_vol_SR (x)[0] - ret})\n",
    "    \n",
    "    result = minimize(min_vol, weights_0, bounds=bounds, constraints=cons)\n",
    "    \n",
    "    front_vol2.append(result['fun'])\n",
    "    \n",
    "   # minimize(min_SR, weights_0, constraints=d, bounds=bounds"
   ]
  },
  {
   "cell_type": "code",
   "execution_count": 138,
   "metadata": {},
   "outputs": [
    {
     "data": {
      "image/png": "[encoded data removed]",
      "text/plain": [
       "<matplotlib.figure.Figure at 0x1a1861f550>"
      ]
     },
     "metadata": {},
     "output_type": "display_data"
    }
   ],
   "source": [
    "plt.figure(figsize =(12,8))\n",
    "plt.scatter(exp_vol_list, exp_ret_list, c=SR_list, cmap='inferno')\n",
    "plt.colorbar(label='SR')\n",
    "plt.xlabel('Volatility')\n",
    "plt.ylabel('Return')\n",
    "plt.scatter(exp_vol_list[i], exp_ret_list[i], c='red', s=50, edgecolors = 'black')\n",
    "plt.plot(front_vol2, front_ret2, '--')\n",
    "plt.show()"
   ]
  },
  {
   "cell_type": "code",
   "execution_count": null,
   "metadata": {
    "collapsed": true
   },
   "outputs": [],
   "source": []
  }
 ],
 "metadata": {
  "kernelspec": {
   "display_name": "Python 3",
   "language": "python",
   "name": "python3"
  },
  "language_info": {
   "codemirror_mode": {
    "name": "ipython",
    "version": 3
   },
   "file_extension": ".py",
   "mimetype": "text/x-python",
   "name": "python",
   "nbconvert_exporter": "python",
   "pygments_lexer": "ipython3",
   "version": "3.6.3"
  }
 },
 "nbformat": 4,
 "nbformat_minor": 2
}
