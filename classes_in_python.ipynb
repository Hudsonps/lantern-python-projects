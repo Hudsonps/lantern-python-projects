{
 "cells": [
  {
   "cell_type": "code",
   "execution_count": 1,
   "metadata": {
    "collapsed": true
   },
   "outputs": [],
   "source": [
    "class Person:\n",
    "    pass "
   ]
  },
  {
   "cell_type": "code",
   "execution_count": 2,
   "metadata": {},
   "outputs": [
    {
     "name": "stdout",
     "output_type": "stream",
     "text": [
      "Variable   Type    Data/Info\n",
      "----------------------------\n",
      "Person     type    <class '__main__.Person'>\n"
     ]
    }
   ],
   "source": [
    "%whos"
   ]
  },
  {
   "cell_type": "code",
   "execution_count": 3,
   "metadata": {
    "collapsed": true
   },
   "outputs": [],
   "source": [
    "P = Person()"
   ]
  },
  {
   "cell_type": "code",
   "execution_count": 5,
   "metadata": {},
   "outputs": [
    {
     "name": "stdout",
     "output_type": "stream",
     "text": [
      "<__main__.Person object at 0x107afeda0>\n"
     ]
    }
   ],
   "source": [
    "print(P)"
   ]
  },
  {
   "cell_type": "markdown",
   "metadata": {},
   "source": [
    "# Methods "
   ]
  },
  {
   "cell_type": "code",
   "execution_count": 14,
   "metadata": {
    "collapsed": true
   },
   "outputs": [],
   "source": [
    "class Person:\n",
    "    def say_hi(self, name):\n",
    "        print(\"Hi\", name, \"!\")"
   ]
  },
  {
   "cell_type": "code",
   "execution_count": 15,
   "metadata": {
    "collapsed": true
   },
   "outputs": [],
   "source": [
    "P = Person()"
   ]
  },
  {
   "cell_type": "code",
   "execution_count": 17,
   "metadata": {},
   "outputs": [
    {
     "name": "stdout",
     "output_type": "stream",
     "text": [
      "Hi Hudson  !\n"
     ]
    }
   ],
   "source": [
    "P.say_hi('Hudson')"
   ]
  },
  {
   "cell_type": "markdown",
   "metadata": {},
   "source": [
    "# __init__method"
   ]
  },
  {
   "cell_type": "code",
   "execution_count": 29,
   "metadata": {
    "collapsed": true
   },
   "outputs": [],
   "source": [
    "class Person:\n",
    "    def __init__(self, name, test):\n",
    "        self.name = name\n",
    "        self.test = test\n",
    "    \n",
    "    def say_hi(self):\n",
    "        print(\"Hi\", self.name, \"!\")"
   ]
  },
  {
   "cell_type": "code",
   "execution_count": 31,
   "metadata": {},
   "outputs": [],
   "source": [
    "P = Person('Hudson', 1)"
   ]
  },
  {
   "cell_type": "code",
   "execution_count": 32,
   "metadata": {},
   "outputs": [
    {
     "data": {
      "text/plain": [
       "1"
      ]
     },
     "execution_count": 32,
     "metadata": {},
     "output_type": "execute_result"
    }
   ],
   "source": [
    "P.test"
   ]
  },
  {
   "cell_type": "code",
   "execution_count": 54,
   "metadata": {},
   "outputs": [],
   "source": [
    "class Robot:\n",
    "    \"\"\"Represent a robot, with a name!\"\"\"\n",
    "    \n",
    "    Population = 0\n",
    "    \n",
    "    def __init__(self, droid_name):\n",
    "        \"\"\"Initializes the droid!\"\"\"\n",
    "        self.name = droid_name\n",
    "        print(\"Initializing {}\" .format(self.name))\n",
    "        \n",
    "        Robot.Population += 1\n",
    "        \n",
    "    def say_hi(self):\n",
    "        print(\"Hey, my name is {}\" .format(self.name))\n",
    "        \n",
    "    def kill_droid(self):\n",
    "        if Robot.Population>0:\n",
    "            print(\"{} is now dead...\".format(self.name))                \n",
    "            Robot.Population-=1  \n",
    "        if Robot.Population==0:\n",
    "            print(\"All the robots are now dead... !\")\n",
    "            \n",
    "    @classmethod\n",
    "    def how_many(cls):\n",
    "        print(\"We have {} droids at the moment !\".format(cls.Population))\n",
    "        "
   ]
  },
  {
   "cell_type": "code",
   "execution_count": 55,
   "metadata": {},
   "outputs": [
    {
     "name": "stdout",
     "output_type": "stream",
     "text": [
      "Initializing R2-D2\n"
     ]
    }
   ],
   "source": [
    "droid1 = Robot(\"R2-D2\")"
   ]
  },
  {
   "cell_type": "code",
   "execution_count": 56,
   "metadata": {},
   "outputs": [
    {
     "name": "stdout",
     "output_type": "stream",
     "text": [
      "Hey, my name is R2-D2\n"
     ]
    }
   ],
   "source": [
    "droid1.say_hi()"
   ]
  },
  {
   "cell_type": "code",
   "execution_count": 57,
   "metadata": {},
   "outputs": [
    {
     "name": "stdout",
     "output_type": "stream",
     "text": [
      "We have 1 droids at the moment !\n"
     ]
    }
   ],
   "source": [
    "Robot.how_many()"
   ]
  },
  {
   "cell_type": "code",
   "execution_count": 58,
   "metadata": {},
   "outputs": [],
   "source": [
    "?Robot"
   ]
  },
  {
   "cell_type": "code",
   "execution_count": 53,
   "metadata": {},
   "outputs": [
    {
     "data": {
      "text/plain": [
       "2"
      ]
     },
     "execution_count": 53,
     "metadata": {},
     "output_type": "execute_result"
    }
   ],
   "source": [
    "Robot.Population"
   ]
  },
  {
   "cell_type": "markdown",
   "metadata": {},
   "source": [
    "# Inheritance"
   ]
  },
  {
   "cell_type": "code",
   "execution_count": 63,
   "metadata": {
    "collapsed": true
   },
   "outputs": [],
   "source": [
    "class SchoolMember:\n",
    "    \n",
    "    def __init__ (self, name, age):\n",
    "        self.name = name\n",
    "        self.age = age\n",
    "        print(\"Initialized Schoolmember {}\" .format(self.name))\n",
    "        \n",
    "    def tell(self):\n",
    "        print(\"Name: {}, Age: {}\".format(self.name, self.age))"
   ]
  },
  {
   "cell_type": "code",
   "execution_count": 65,
   "metadata": {
    "collapsed": true
   },
   "outputs": [],
   "source": [
    "class Teacher (SchoolMember):\n",
    "    \n",
    "    def __init__ (self, name, age, salary):\n",
    "        SchoolMember.__init__(self,name,age)\n",
    "        self.salary = salary\n",
    "        print(\"Initialized Teacher {}\" .format(self.name))\n",
    "        \n",
    "    def tell(self):\n",
    "        SchoolMember.tell(self)\n",
    "        print(\"Salary: {}\".format(self.salary))"
   ]
  },
  {
   "cell_type": "code",
   "execution_count": 66,
   "metadata": {},
   "outputs": [
    {
     "name": "stdout",
     "output_type": "stream",
     "text": [
      "Initialized Schoolmember John\n",
      "Initialized Teacher John\n"
     ]
    }
   ],
   "source": [
    "Mr_teacher = Teacher(\"John\", 40, 40000)"
   ]
  },
  {
   "cell_type": "code",
   "execution_count": 67,
   "metadata": {
    "collapsed": true
   },
   "outputs": [],
   "source": [
    "#student: name, mark, age\n",
    "class Teacher (SchoolMember):\n",
    "    \n",
    "    def __init__ (self, name, age, mark):\n",
    "        SchoolMember.__init__(self,name,age)\n",
    "        self.mark = mark\n",
    "        print(\"Initialized Student {}\" .format(self.name))\n",
    "        \n",
    "    def tell(self):\n",
    "        SchoolMember.tell(self)\n",
    "        print(\"Mark: {}\".format(self.mark))"
   ]
  },
  {
   "cell_type": "code",
   "execution_count": 68,
   "metadata": {
    "collapsed": true
   },
   "outputs": [],
   "source": [
    "class Robot:\n",
    "    \"\"\"Represent a robot, with a name!\"\"\"\n",
    "    \n",
    "    Population = 0\n",
    "    \n",
    "    def __init__(self, droid_name):\n",
    "        \"\"\"Initializes the droid!\"\"\"\n",
    "        self.name = droid_name\n",
    "        print(\"Initializing {}\" .format(self.name))\n",
    "        \n",
    "        Robot.Population += 1\n",
    "        \n",
    "    def say_hi(self):\n",
    "        print(\"Hey, my name is {}\" .format(self.name))\n",
    "        \n",
    "    def kill_droid(self):\n",
    "        if Robot.Population>0:\n",
    "            print(\"{} is now dead...\".format(self.name))                \n",
    "            Robot.Population-=1  \n",
    "        if Robot.Population==0:\n",
    "            print(\"All the robots are now dead... !\")\n",
    "            \n",
    "    @classmethod\n",
    "    def how_many(cls):\n",
    "        print(\"We have {} droids at the moment !\".format(cls.Population))\n",
    "        \n",
    "    @staticmethod\n",
    "    def sky():\n",
    "        print(\"sky is Blue!\")"
   ]
  },
  {
   "cell_type": "code",
   "execution_count": null,
   "metadata": {
    "collapsed": true
   },
   "outputs": [],
   "source": []
  }
 ],
 "metadata": {
  "kernelspec": {
   "display_name": "Python 3",
   "language": "python",
   "name": "python3"
  },
  "language_info": {
   "codemirror_mode": {
    "name": "ipython",
    "version": 3
   },
   "file_extension": ".py",
   "mimetype": "text/x-python",
   "name": "python",
   "nbconvert_exporter": "python",
   "pygments_lexer": "ipython3",
   "version": "3.6.3"
  }
 },
 "nbformat": 4,
 "nbformat_minor": 2
}
